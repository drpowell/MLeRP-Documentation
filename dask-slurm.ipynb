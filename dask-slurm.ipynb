{
 "cells": [
  {
   "cell_type": "raw",
   "metadata": {},
   "source": [
    "---\n",
    "format:\n",
    "  html:\n",
    "    code-fold: false\n",
    "execute:\n",
    "    freeze: true\n",
    "---"
   ]
  },
  {
   "attachments": {},
   "cell_type": "markdown",
   "metadata": {},
   "source": [
    "# Dask SLURMClusters"
   ]
  },
  {
   "attachments": {},
   "cell_type": "markdown",
   "metadata": {},
   "source": [
    "The MLeRP notebook environment uses Dask SLURMClusters to create a middle ground that has the interactivity of a notebook backed by the power of HPC. You will be provisioned with a CPU based notebook session for your basic analysis and code development. Then, when you're ready to run testsm you will use Dask to submit your python functions to the SLURM queue. \n",
    "\n",
    "This enables:\n",
    "- Flexibility to experiment with your dataset interactively\n",
    "- Ability to change compute requirements such as RAM, size of GPU, number of processes and so on... without ever leaving the notebook environment\n",
    "- Elastic scaling of compute\n",
    "- Efficient utilisation of the hardware\n",
    "- Releasing of resources when not in use"
   ]
  },
  {
   "cell_type": "code",
   "execution_count": 1,
   "metadata": {},
   "outputs": [
    {
     "data": {
      "text/html": [
       "<div>\n",
       "    <div style=\"width: 24px; height: 24px; background-color: #e1e1e1; border: 3px solid #9D9D9D; border-radius: 5px; position: absolute;\"> </div>\n",
       "    <div style=\"margin-left: 48px;\">\n",
       "        <h3 style=\"margin-bottom: 0px;\">Client</h3>\n",
       "        <p style=\"color: #9D9D9D; margin-bottom: 0px;\">Client-1fad484f-bbc8-11ed-9274-fa163e16ef68</p>\n",
       "        <table style=\"width: 100%; text-align: left;\">\n",
       "\n",
       "        <tr>\n",
       "        \n",
       "            <td style=\"text-align: left;\"><strong>Connection method:</strong> Cluster object</td>\n",
       "            <td style=\"text-align: left;\"><strong>Cluster type:</strong> dask_jobqueue.SLURMCluster</td>\n",
       "        \n",
       "        </tr>\n",
       "\n",
       "        \n",
       "            <tr>\n",
       "                <td style=\"text-align: left;\">\n",
       "                    <strong>Dashboard: </strong> <a href=\"http://192.168.0.213:8787/status\" target=\"_blank\">http://192.168.0.213:8787/status</a>\n",
       "                </td>\n",
       "                <td style=\"text-align: left;\"></td>\n",
       "            </tr>\n",
       "        \n",
       "\n",
       "        </table>\n",
       "\n",
       "        \n",
       "            <details>\n",
       "            <summary style=\"margin-bottom: 20px;\"><h3 style=\"display: inline;\">Cluster Info</h3></summary>\n",
       "            <div class=\"jp-RenderedHTMLCommon jp-RenderedHTML jp-mod-trusted jp-OutputArea-output\">\n",
       "    <div style=\"width: 24px; height: 24px; background-color: #e1e1e1; border: 3px solid #9D9D9D; border-radius: 5px; position: absolute;\">\n",
       "    </div>\n",
       "    <div style=\"margin-left: 48px;\">\n",
       "        <h3 style=\"margin-bottom: 0px; margin-top: 0px;\">SLURMCluster</h3>\n",
       "        <p style=\"color: #9D9D9D; margin-bottom: 0px;\">39116ce7</p>\n",
       "        <table style=\"width: 100%; text-align: left;\">\n",
       "            <tr>\n",
       "                <td style=\"text-align: left;\">\n",
       "                    <strong>Dashboard:</strong> <a href=\"http://192.168.0.213:8787/status\" target=\"_blank\">http://192.168.0.213:8787/status</a>\n",
       "                </td>\n",
       "                <td style=\"text-align: left;\">\n",
       "                    <strong>Workers:</strong> 0\n",
       "                </td>\n",
       "            </tr>\n",
       "            <tr>\n",
       "                <td style=\"text-align: left;\">\n",
       "                    <strong>Total threads:</strong> 0\n",
       "                </td>\n",
       "                <td style=\"text-align: left;\">\n",
       "                    <strong>Total memory:</strong> 0 B\n",
       "                </td>\n",
       "            </tr>\n",
       "            \n",
       "        </table>\n",
       "\n",
       "        <details>\n",
       "            <summary style=\"margin-bottom: 20px;\">\n",
       "                <h3 style=\"display: inline;\">Scheduler Info</h3>\n",
       "            </summary>\n",
       "\n",
       "            <div style=\"\">\n",
       "    <div>\n",
       "        <div style=\"width: 24px; height: 24px; background-color: #FFF7E5; border: 3px solid #FF6132; border-radius: 5px; position: absolute;\"> </div>\n",
       "        <div style=\"margin-left: 48px;\">\n",
       "            <h3 style=\"margin-bottom: 0px;\">Scheduler</h3>\n",
       "            <p style=\"color: #9D9D9D; margin-bottom: 0px;\">Scheduler-5c613755-a2ec-4108-9ea6-678adcdceb3e</p>\n",
       "            <table style=\"width: 100%; text-align: left;\">\n",
       "                <tr>\n",
       "                    <td style=\"text-align: left;\">\n",
       "                        <strong>Comm:</strong> tcp://192.168.0.213:43565\n",
       "                    </td>\n",
       "                    <td style=\"text-align: left;\">\n",
       "                        <strong>Workers:</strong> 0\n",
       "                    </td>\n",
       "                </tr>\n",
       "                <tr>\n",
       "                    <td style=\"text-align: left;\">\n",
       "                        <strong>Dashboard:</strong> <a href=\"http://192.168.0.213:8787/status\" target=\"_blank\">http://192.168.0.213:8787/status</a>\n",
       "                    </td>\n",
       "                    <td style=\"text-align: left;\">\n",
       "                        <strong>Total threads:</strong> 0\n",
       "                    </td>\n",
       "                </tr>\n",
       "                <tr>\n",
       "                    <td style=\"text-align: left;\">\n",
       "                        <strong>Started:</strong> Just now\n",
       "                    </td>\n",
       "                    <td style=\"text-align: left;\">\n",
       "                        <strong>Total memory:</strong> 0 B\n",
       "                    </td>\n",
       "                </tr>\n",
       "            </table>\n",
       "        </div>\n",
       "    </div>\n",
       "\n",
       "    <details style=\"margin-left: 48px;\">\n",
       "        <summary style=\"margin-bottom: 20px;\">\n",
       "            <h3 style=\"display: inline;\">Workers</h3>\n",
       "        </summary>\n",
       "\n",
       "        \n",
       "\n",
       "    </details>\n",
       "</div>\n",
       "\n",
       "        </details>\n",
       "    </div>\n",
       "</div>\n",
       "            </details>\n",
       "        \n",
       "\n",
       "    </div>\n",
       "</div>"
      ],
      "text/plain": [
       "<Client: 'tcp://192.168.0.213:43565' processes=0 threads=0, memory=0 B>"
      ]
     },
     "execution_count": 1,
     "metadata": {},
     "output_type": "execute_result"
    }
   ],
   "source": [
    "from dask_jobqueue import SLURMCluster\n",
    "from distributed import Client, LocalCluster\n",
    "import dask\n",
    "\n",
    "# Point Dask to the SLURM to use as it's back end\n",
    "cluster = SLURMCluster(\n",
    "    memory=\"64g\", processes=1, cores=8\n",
    ")\n",
    "\n",
    "# Scale out to 4 nodes\n",
    "num_nodes = 4\n",
    "cluster.scale(num_nodes)\n",
    "client = Client(cluster)\n",
    "client"
   ]
  },
  {
   "attachments": {},
   "cell_type": "markdown",
   "metadata": {},
   "source": [
    "Dask will now spin our jobs up in anticipation for work to the scale that you specify.\n",
    "\n",
    "You can check in on your jobs like you would with any other SLURM job with `squeue`."
   ]
  },
  {
   "cell_type": "code",
   "execution_count": 2,
   "metadata": {},
   "outputs": [
    {
     "name": "stdout",
     "output_type": "stream",
     "text": [
      "             JOBID PARTITION     NAME     USER ST       TIME  NODES NODELIST(REASON)\n",
      "              1637     batch Jupyter  mhar0048  R      42:23      1 mlerp-node05\n",
      "              1638     batch dask-wor mhar0048  R       0:16      1 mlerp-node05\n",
      "              1639     batch dask-wor mhar0048  R       0:16      1 mlerp-node05\n",
      "              1640     batch dask-wor mhar0048  R       0:16      1 mlerp-node05\n",
      "              1641     batch dask-wor mhar0048  R       0:16      1 mlerp-node05\n"
     ]
    }
   ],
   "source": [
    "!squeue"
   ]
  },
  {
   "attachments": {},
   "cell_type": "markdown",
   "metadata": {},
   "source": [
    "Alternatively, we can use the adapt method, which will let us scale out as we need the compute... and scale back when we're idle letting others use the cluster. \n",
    "\n",
    "We reccommend that you use the adapt method while you're actively developing your code so that you don't need to worry about cleaning up after yourself. The scale method can be used when you're ready to run longer tests with higher utilisation.\n"
   ]
  },
  {
   "cell_type": "code",
   "execution_count": 3,
   "metadata": {},
   "outputs": [
    {
     "data": {
      "text/plain": [
       "<distributed.deploy.adaptive.Adaptive at 0x7f85ea9ec820>"
      ]
     },
     "execution_count": 3,
     "metadata": {},
     "output_type": "execute_result"
    }
   ],
   "source": [
    "cluster.adapt(minimum=0, maximum=num_nodes)"
   ]
  },
  {
   "cell_type": "code",
   "execution_count": 7,
   "metadata": {},
   "outputs": [
    {
     "name": "stdout",
     "output_type": "stream",
     "text": [
      "             JOBID PARTITION     NAME     USER ST       TIME  NODES NODELIST(REASON)\n",
      "              1637     batch Jupyter  mhar0048  R      43:01      1 mlerp-node05\n"
     ]
    }
   ],
   "source": [
    "# You may need to run this cell a few times while waiting for Dask to clean up\n",
    "!squeue\n"
   ]
  },
  {
   "attachments": {},
   "cell_type": "markdown",
   "metadata": {},
   "source": [
    "Dask has a UI that will let you see how the tasks are being computed.\n",
    "You won't be able to connect to this with your web browser but VSCode and Jupyter have extensions for you to connect to it. \n",
    "\n",
    "Use the loopback address: http://127.0.0.1:8787 (Adjust the port to the one listed when you make the client if needed)"
   ]
  },
  {
   "attachments": {},
   "cell_type": "markdown",
   "metadata": {},
   "source": [
    "Now let's define a dask array and perform some computation. Dask arrays are parallelised across your workers nodes so they can be greater than the size of one worker's memory. Dask evaluates lazily, retuning 'futures' which record the tasks needed to be completed in the compute graph. They can be computed later for its value. \n",
    "\n",
    "Dask also has parallelised implementations of dataframes and collections of objects (called bags). These are written to be as similar as possible to familiar libraries like numpy, pandas and pyspark. You can read more about [arrays](https://docs.dask.org/en/stable/array.html), [dataframes](https://docs.dask.org/en/stable/dataframe.html) and [bags](https://docs.dask.org/en/stable/bag.html) with Dask's documentation."
   ]
  },
  {
   "cell_type": "code",
   "execution_count": 8,
   "metadata": {},
   "outputs": [
    {
     "data": {
      "text/html": [
       "<table>\n",
       "    <tr>\n",
       "        <td>\n",
       "            <table>\n",
       "                <thead>\n",
       "                    <tr>\n",
       "                        <td> </td>\n",
       "                        <th> Array </th>\n",
       "                        <th> Chunk </th>\n",
       "                    </tr>\n",
       "                </thead>\n",
       "                <tbody>\n",
       "                    \n",
       "                    <tr>\n",
       "                        <th> Bytes </th>\n",
       "                        <td> 7.45 GiB </td>\n",
       "                        <td> 119.21 MiB </td>\n",
       "                    </tr>\n",
       "                    \n",
       "                    <tr>\n",
       "                        <th> Shape </th>\n",
       "                        <td> (1000, 1000, 1000) </td>\n",
       "                        <td> (250, 250, 250) </td>\n",
       "                    </tr>\n",
       "                    <tr>\n",
       "                        <th> Count </th>\n",
       "                        <td> 64 Tasks </td>\n",
       "                        <td> 64 Chunks </td>\n",
       "                    </tr>\n",
       "                    <tr>\n",
       "                    <th> Type </th>\n",
       "                    <td> float64 </td>\n",
       "                    <td> numpy.ndarray </td>\n",
       "                    </tr>\n",
       "                </tbody>\n",
       "            </table>\n",
       "        </td>\n",
       "        <td>\n",
       "        <svg width=\"250\" height=\"240\" style=\"stroke:rgb(0,0,0);stroke-width:1\" >\n",
       "\n",
       "  <!-- Horizontal lines -->\n",
       "  <line x1=\"10\" y1=\"0\" x2=\"80\" y2=\"70\" style=\"stroke-width:2\" />\n",
       "  <line x1=\"10\" y1=\"30\" x2=\"80\" y2=\"100\" />\n",
       "  <line x1=\"10\" y1=\"60\" x2=\"80\" y2=\"130\" />\n",
       "  <line x1=\"10\" y1=\"90\" x2=\"80\" y2=\"160\" />\n",
       "  <line x1=\"10\" y1=\"120\" x2=\"80\" y2=\"190\" style=\"stroke-width:2\" />\n",
       "\n",
       "  <!-- Vertical lines -->\n",
       "  <line x1=\"10\" y1=\"0\" x2=\"10\" y2=\"120\" style=\"stroke-width:2\" />\n",
       "  <line x1=\"27\" y1=\"17\" x2=\"27\" y2=\"137\" />\n",
       "  <line x1=\"45\" y1=\"35\" x2=\"45\" y2=\"155\" />\n",
       "  <line x1=\"62\" y1=\"52\" x2=\"62\" y2=\"172\" />\n",
       "  <line x1=\"80\" y1=\"70\" x2=\"80\" y2=\"190\" style=\"stroke-width:2\" />\n",
       "\n",
       "  <!-- Colored Rectangle -->\n",
       "  <polygon points=\"10.0,0.0 80.58823529411765,70.58823529411765 80.58823529411765,190.58823529411765 10.0,120.0\" style=\"fill:#ECB172A0;stroke-width:0\"/>\n",
       "\n",
       "  <!-- Horizontal lines -->\n",
       "  <line x1=\"10\" y1=\"0\" x2=\"130\" y2=\"0\" style=\"stroke-width:2\" />\n",
       "  <line x1=\"27\" y1=\"17\" x2=\"147\" y2=\"17\" />\n",
       "  <line x1=\"45\" y1=\"35\" x2=\"165\" y2=\"35\" />\n",
       "  <line x1=\"62\" y1=\"52\" x2=\"182\" y2=\"52\" />\n",
       "  <line x1=\"80\" y1=\"70\" x2=\"200\" y2=\"70\" style=\"stroke-width:2\" />\n",
       "\n",
       "  <!-- Vertical lines -->\n",
       "  <line x1=\"10\" y1=\"0\" x2=\"80\" y2=\"70\" style=\"stroke-width:2\" />\n",
       "  <line x1=\"40\" y1=\"0\" x2=\"110\" y2=\"70\" />\n",
       "  <line x1=\"70\" y1=\"0\" x2=\"140\" y2=\"70\" />\n",
       "  <line x1=\"100\" y1=\"0\" x2=\"170\" y2=\"70\" />\n",
       "  <line x1=\"130\" y1=\"0\" x2=\"200\" y2=\"70\" style=\"stroke-width:2\" />\n",
       "\n",
       "  <!-- Colored Rectangle -->\n",
       "  <polygon points=\"10.0,0.0 130.0,0.0 200.58823529411765,70.58823529411765 80.58823529411765,70.58823529411765\" style=\"fill:#ECB172A0;stroke-width:0\"/>\n",
       "\n",
       "  <!-- Horizontal lines -->\n",
       "  <line x1=\"80\" y1=\"70\" x2=\"200\" y2=\"70\" style=\"stroke-width:2\" />\n",
       "  <line x1=\"80\" y1=\"100\" x2=\"200\" y2=\"100\" />\n",
       "  <line x1=\"80\" y1=\"130\" x2=\"200\" y2=\"130\" />\n",
       "  <line x1=\"80\" y1=\"160\" x2=\"200\" y2=\"160\" />\n",
       "  <line x1=\"80\" y1=\"190\" x2=\"200\" y2=\"190\" style=\"stroke-width:2\" />\n",
       "\n",
       "  <!-- Vertical lines -->\n",
       "  <line x1=\"80\" y1=\"70\" x2=\"80\" y2=\"190\" style=\"stroke-width:2\" />\n",
       "  <line x1=\"110\" y1=\"70\" x2=\"110\" y2=\"190\" />\n",
       "  <line x1=\"140\" y1=\"70\" x2=\"140\" y2=\"190\" />\n",
       "  <line x1=\"170\" y1=\"70\" x2=\"170\" y2=\"190\" />\n",
       "  <line x1=\"200\" y1=\"70\" x2=\"200\" y2=\"190\" style=\"stroke-width:2\" />\n",
       "\n",
       "  <!-- Colored Rectangle -->\n",
       "  <polygon points=\"80.58823529411765,70.58823529411765 200.58823529411765,70.58823529411765 200.58823529411765,190.58823529411765 80.58823529411765,190.58823529411765\" style=\"fill:#ECB172A0;stroke-width:0\"/>\n",
       "\n",
       "  <!-- Text -->\n",
       "  <text x=\"140.588235\" y=\"210.588235\" font-size=\"1.0rem\" font-weight=\"100\" text-anchor=\"middle\" >1000</text>\n",
       "  <text x=\"220.588235\" y=\"130.588235\" font-size=\"1.0rem\" font-weight=\"100\" text-anchor=\"middle\" transform=\"rotate(-90,220.588235,130.588235)\">1000</text>\n",
       "  <text x=\"35.294118\" y=\"175.294118\" font-size=\"1.0rem\" font-weight=\"100\" text-anchor=\"middle\" transform=\"rotate(45,35.294118,175.294118)\">1000</text>\n",
       "</svg>\n",
       "        </td>\n",
       "    </tr>\n",
       "</table>"
      ],
      "text/plain": [
       "dask.array<random_sample, shape=(1000, 1000, 1000), dtype=float64, chunksize=(250, 250, 250), chunktype=numpy.ndarray>"
      ]
     },
     "execution_count": 8,
     "metadata": {},
     "output_type": "execute_result"
    }
   ],
   "source": [
    "import dask.array as da\n",
    "x = da.random.random((1000, 1000, 1000))\n",
    "x  # Note how the value of the array hasn't been computed yet\n"
   ]
  },
  {
   "attachments": {},
   "cell_type": "markdown",
   "metadata": {},
   "source": [
    "You can check squeue while this is running to see the jobs dynamically spinning up to perform the computation."
   ]
  },
  {
   "cell_type": "code",
   "execution_count": 9,
   "metadata": {},
   "outputs": [
    {
     "data": {
      "text/plain": [
       "array([[[0.81048276, 0.98448871, 0.1733459 , ..., 0.56455782,\n",
       "         0.87080788, 0.13560115],\n",
       "        [0.34637436, 0.87259813, 0.94473364, ..., 0.93145702,\n",
       "         0.1192914 , 0.29108374],\n",
       "        [0.41857781, 0.83517549, 0.08113376, ..., 0.85804457,\n",
       "         0.37388268, 0.37722865],\n",
       "        ...,\n",
       "        [0.46583782, 0.61815175, 0.09393558, ..., 0.66240159,\n",
       "         0.49874618, 0.81926554],\n",
       "        [0.24346786, 0.60615724, 0.99073193, ..., 0.06461803,\n",
       "         0.00183846, 0.67093819],\n",
       "        [0.08790386, 0.83009404, 0.12218377, ..., 0.06221952,\n",
       "         0.02795862, 0.71642665]],\n",
       "\n",
       "       [[0.87904067, 0.08657706, 0.54566209, ..., 0.88747936,\n",
       "         0.67862782, 0.06280928],\n",
       "        [0.60127705, 0.16065682, 0.20523986, ..., 0.37973246,\n",
       "         0.63451103, 0.76550924],\n",
       "        [0.40090817, 0.03877228, 0.40892043, ..., 0.28284783,\n",
       "         0.08165901, 0.62547838],\n",
       "        ...,\n",
       "        [0.91598835, 0.60142513, 0.58315254, ..., 0.4106674 ,\n",
       "         0.39268422, 0.0359192 ],\n",
       "        [0.43570915, 0.86416062, 0.19947181, ..., 0.26959132,\n",
       "         0.56094108, 0.67045609],\n",
       "        [0.77048317, 0.05800286, 0.79154034, ..., 0.20123776,\n",
       "         0.03886638, 0.46688039]],\n",
       "\n",
       "       [[0.90154212, 0.21625038, 0.43767504, ..., 0.29003829,\n",
       "         0.53543812, 0.05813288],\n",
       "        [0.70823206, 0.15378265, 0.50122973, ..., 0.83336165,\n",
       "         0.62442109, 0.99706319],\n",
       "        [0.39972706, 0.45769274, 0.71225809, ..., 0.59740476,\n",
       "         0.88300199, 0.78174948],\n",
       "        ...,\n",
       "        [0.43426827, 0.70359092, 0.93161099, ..., 0.61153736,\n",
       "         0.64245218, 0.93093052],\n",
       "        [0.34932829, 0.18280574, 0.03849763, ..., 0.47254602,\n",
       "         0.16659474, 0.50385353],\n",
       "        [0.55394197, 0.93967812, 0.19042393, ..., 0.79276809,\n",
       "         0.63940768, 0.76911959]],\n",
       "\n",
       "       ...,\n",
       "\n",
       "       [[0.45786038, 0.85513896, 0.65277041, ..., 0.88640097,\n",
       "         0.1332642 , 0.46490542],\n",
       "        [0.73694782, 0.60710629, 0.9022453 , ..., 0.9449639 ,\n",
       "         0.96740867, 0.27902221],\n",
       "        [0.14930582, 0.50213856, 0.40821156, ..., 0.6946832 ,\n",
       "         0.23331898, 0.28920961],\n",
       "        ...,\n",
       "        [0.74158561, 0.45597372, 0.65007944, ..., 0.99970547,\n",
       "         0.8797445 , 0.07684269],\n",
       "        [0.89195394, 0.46038323, 0.23562025, ..., 0.94244266,\n",
       "         0.52660567, 0.39521149],\n",
       "        [0.5888601 , 0.81723018, 0.17045886, ..., 0.67048762,\n",
       "         0.56533708, 0.25716144]],\n",
       "\n",
       "       [[0.63473717, 0.18832603, 0.84891618, ..., 0.97606878,\n",
       "         0.21760161, 0.54201549],\n",
       "        [0.3529744 , 0.38462424, 0.81971622, ..., 0.2029358 ,\n",
       "         0.22444116, 0.65069545],\n",
       "        [0.62372702, 0.28351268, 0.0386723 , ..., 0.90500265,\n",
       "         0.59215861, 0.62802261],\n",
       "        ...,\n",
       "        [0.28551262, 0.41386426, 0.25409061, ..., 0.17632859,\n",
       "         0.41365254, 0.68635382],\n",
       "        [0.02055029, 0.98061086, 0.31100677, ..., 0.00492097,\n",
       "         0.35997751, 0.25151212],\n",
       "        [0.92746433, 0.53906131, 0.08237071, ..., 0.28546093,\n",
       "         0.4792113 , 0.75821124]],\n",
       "\n",
       "       [[0.13938191, 0.21151459, 0.82413647, ..., 0.98384943,\n",
       "         0.73570428, 0.86907216],\n",
       "        [0.00827752, 0.21515904, 0.45043764, ..., 0.20621184,\n",
       "         0.04521416, 0.84621095],\n",
       "        [0.05534646, 0.22239314, 0.46678384, ..., 0.44320404,\n",
       "         0.60471602, 0.24567299],\n",
       "        ...,\n",
       "        [0.44036848, 0.23792716, 0.5878868 , ..., 0.17130055,\n",
       "         0.57048327, 0.94820776],\n",
       "        [0.80744186, 0.71882324, 0.49240172, ..., 0.87435928,\n",
       "         0.65409874, 0.0039221 ],\n",
       "        [0.18796252, 0.27960799, 0.57753044, ..., 0.98543126,\n",
       "         0.89218506, 0.96359486]]])"
      ]
     },
     "execution_count": 9,
     "metadata": {},
     "output_type": "execute_result"
    }
   ],
   "source": [
    "x.compute()\n",
    "x[0][0]"
   ]
  },
  {
   "attachments": {},
   "cell_type": "markdown",
   "metadata": {},
   "source": [
    "We can also accelerate dask arrays with GPUs using cupy. There is similar support for accelerating dask dataframes with CuDF."
   ]
  },
  {
   "cell_type": "code",
   "execution_count": 10,
   "metadata": {},
   "outputs": [
    {
     "data": {
      "text/plain": [
       "array([[[3.96333169e-03, 3.75975260e-01, 3.56959376e-01, ...,\n",
       "         4.50280915e-01, 2.35157391e-01, 7.94328044e-01],\n",
       "        [7.46712819e-01, 3.80351024e-02, 6.20411425e-01, ...,\n",
       "         4.25249481e-01, 1.79268928e-01, 4.18742215e-01],\n",
       "        [6.86661418e-01, 2.68955439e-01, 1.35690349e-01, ...,\n",
       "         6.07946338e-01, 5.99222969e-01, 9.05284417e-01],\n",
       "        ...,\n",
       "        [9.76543019e-01, 6.83623666e-01, 7.72140730e-02, ...,\n",
       "         5.01167957e-01, 9.58515852e-01, 5.07214775e-01],\n",
       "        [2.40601659e-01, 8.18106652e-01, 2.82227562e-01, ...,\n",
       "         4.40147690e-01, 2.40043011e-01, 7.48213851e-01],\n",
       "        [6.46267786e-01, 2.13913358e-01, 2.05269982e-01, ...,\n",
       "         8.90589693e-01, 5.19737573e-01, 9.10289392e-01]],\n",
       "\n",
       "       [[1.72304898e-01, 5.05337770e-01, 1.87073213e-01, ...,\n",
       "         6.76683193e-01, 1.69135886e-01, 2.43992433e-01],\n",
       "        [3.70932825e-01, 8.84938115e-01, 8.77260345e-01, ...,\n",
       "         4.57830983e-01, 5.27520536e-01, 2.01397156e-01],\n",
       "        [9.09455520e-01, 8.28202776e-01, 3.84134861e-01, ...,\n",
       "         8.07997870e-02, 4.24021864e-01, 8.34383254e-01],\n",
       "        ...,\n",
       "        [8.55113113e-01, 2.52211591e-01, 5.28010992e-01, ...,\n",
       "         8.19260228e-01, 2.82101588e-01, 8.39183043e-01],\n",
       "        [9.73137446e-01, 9.04520033e-01, 2.30853972e-01, ...,\n",
       "         4.23457838e-01, 7.94870403e-01, 1.00250089e-01],\n",
       "        [5.40579345e-01, 2.89968667e-01, 8.90332214e-01, ...,\n",
       "         6.70323229e-01, 7.73539876e-01, 8.15765293e-01]],\n",
       "\n",
       "       [[9.78069689e-01, 1.94483025e-01, 3.43399529e-01, ...,\n",
       "         4.02166898e-01, 6.71836852e-01, 9.52519632e-01],\n",
       "        [1.35657204e-03, 7.36432409e-02, 8.82288105e-01, ...,\n",
       "         2.36884145e-01, 2.10861265e-02, 4.61787761e-01],\n",
       "        [7.89820626e-01, 4.07889914e-01, 2.45503974e-01, ...,\n",
       "         4.62825525e-01, 5.82648973e-01, 3.43674022e-01],\n",
       "        ...,\n",
       "        [6.83155606e-01, 3.56633317e-01, 7.85189277e-01, ...,\n",
       "         9.94454587e-01, 7.13054153e-01, 3.45217158e-01],\n",
       "        [4.03539798e-01, 1.72588217e-01, 5.84980509e-02, ...,\n",
       "         3.99447478e-01, 5.61517474e-01, 4.41827263e-01],\n",
       "        [3.73142302e-01, 6.37492831e-01, 8.58445880e-01, ...,\n",
       "         2.94945156e-01, 7.04045362e-01, 6.42646469e-01]],\n",
       "\n",
       "       ...,\n",
       "\n",
       "       [[2.57379067e-02, 2.26092528e-01, 6.72177087e-01, ...,\n",
       "         1.03541559e-01, 7.04260574e-01, 3.09848467e-01],\n",
       "        [1.14911496e-01, 5.59038772e-01, 5.20089463e-01, ...,\n",
       "         5.98993990e-01, 2.97319738e-01, 2.12389183e-01],\n",
       "        [1.52607925e-01, 4.24765213e-01, 3.08108001e-01, ...,\n",
       "         3.70586265e-01, 1.03058160e-01, 8.31891440e-01],\n",
       "        ...,\n",
       "        [6.93327253e-01, 5.03617291e-01, 7.21311361e-01, ...,\n",
       "         4.75231608e-01, 4.14158400e-01, 1.13713830e-01],\n",
       "        [9.83901463e-02, 6.17394328e-02, 3.31051444e-01, ...,\n",
       "         3.18242299e-01, 5.28685022e-01, 1.00347141e-01],\n",
       "        [6.71486871e-01, 5.76711473e-02, 4.21947139e-01, ...,\n",
       "         8.98134777e-01, 9.62267196e-01, 4.09166441e-01]],\n",
       "\n",
       "       [[7.92228171e-01, 4.74861245e-01, 8.55582049e-01, ...,\n",
       "         2.01486700e-02, 2.35502699e-01, 4.10015940e-01],\n",
       "        [2.00915420e-01, 4.81461026e-01, 4.74642799e-01, ...,\n",
       "         9.93546874e-01, 2.16693458e-01, 2.86340839e-03],\n",
       "        [8.43810984e-01, 7.34739653e-01, 3.14340844e-01, ...,\n",
       "         6.44837946e-01, 4.85487627e-01, 3.75704414e-01],\n",
       "        ...,\n",
       "        [8.28949422e-01, 8.91638673e-01, 2.89596844e-01, ...,\n",
       "         7.15502825e-01, 5.78631295e-01, 7.86967250e-01],\n",
       "        [8.23241405e-01, 8.98084628e-01, 2.85672278e-01, ...,\n",
       "         6.20557458e-01, 5.81817995e-01, 2.52404515e-01],\n",
       "        [5.40497081e-01, 9.72915655e-01, 7.31110429e-01, ...,\n",
       "         5.08955347e-01, 6.97590461e-02, 5.89144368e-01]],\n",
       "\n",
       "       [[2.63822264e-01, 5.19700272e-01, 7.59760755e-01, ...,\n",
       "         6.18960236e-01, 8.61688534e-02, 6.81393559e-02],\n",
       "        [5.96324590e-01, 6.16036635e-01, 5.19938293e-01, ...,\n",
       "         6.44789632e-01, 7.99003165e-01, 5.07297511e-01],\n",
       "        [6.29738591e-04, 9.50428411e-01, 9.89160098e-01, ...,\n",
       "         9.91761810e-01, 8.79419963e-01, 5.79882246e-03],\n",
       "        ...,\n",
       "        [3.35997130e-01, 7.22035458e-01, 5.61892255e-01, ...,\n",
       "         3.84637676e-01, 8.86357871e-01, 3.79967524e-01],\n",
       "        [4.80935276e-01, 7.47906202e-01, 9.82953759e-01, ...,\n",
       "         4.06516152e-01, 9.77525540e-01, 6.24499056e-02],\n",
       "        [8.34387920e-02, 9.02366972e-02, 9.74848083e-01, ...,\n",
       "         9.40563574e-01, 6.10587311e-01, 8.08475318e-01]]])"
      ]
     },
     "execution_count": 10,
     "metadata": {},
     "output_type": "execute_result"
    }
   ],
   "source": [
    "dask.config.set({\"array.backend\": \"cupy\"})\n",
    "y = da.random.random((1000, 1000, 1000))\n",
    "y.compute()\n",
    "y[0][0]"
   ]
  },
  {
   "attachments": {},
   "cell_type": "markdown",
   "metadata": {},
   "source": [
    "Finally, we can shut down the SLURMCluster now that we're done with it."
   ]
  },
  {
   "cell_type": "code",
   "execution_count": 11,
   "metadata": {},
   "outputs": [],
   "source": [
    "# Shut down the cluster\n",
    "client.shutdown()\n"
   ]
  }
 ],
 "metadata": {
  "kernelspec": {
   "display_name": "dask",
   "language": "python",
   "name": "python3"
  },
  "language_info": {
   "codemirror_mode": {
    "name": "ipython",
    "version": 3
   },
   "file_extension": ".py",
   "mimetype": "text/x-python",
   "name": "python",
   "nbconvert_exporter": "python",
   "pygments_lexer": "ipython3",
   "version": "3.10.9"
  },
  "orig_nbformat": 4,
  "vscode": {
   "interpreter": {
    "hash": "db096b8404a4f1f3e1df0cc89f001e138448327417ef835d10f5a76aa612f160"
   }
  }
 },
 "nbformat": 4,
 "nbformat_minor": 2
}
