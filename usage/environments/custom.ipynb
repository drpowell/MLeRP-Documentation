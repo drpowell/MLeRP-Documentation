{
 "cells": [
  {
   "cell_type": "markdown",
   "metadata": {},
   "source": [
    "---\n",
    "title: Custom Template\n",
    "Version: custom\n",
    "date: 2023-12\n",
    "date-format: \"MMM YYYY\"\n",
    "format:\n",
    "  html:\n",
    "    code-fold: true\n",
    "execute:\n",
    "    freeze: true\n",
    "format-links: [ipynb]\n",
    "---"
   ]
  },
  {
   "cell_type": "markdown",
   "metadata": {},
   "source": [
    "This environment template has the bare bones of the packages that you'll need to create a conda environment compatible with Studel2's Jupyter Lab app. \n",
    "\n",
    "See our custom environment documentation for more details."
   ]
  },
  {
   "cell_type": "markdown",
   "metadata": {},
   "source": [
    "### Environment Definition"
   ]
  },
  {
   "cell_type": "code",
   "execution_count": 2,
   "metadata": {},
   "outputs": [
    {
     "name": "stdout",
     "output_type": "stream",
     "text": [
      "name: custom\n",
      "channels:\n",
      "  # Add channels as needed for your research packages from most specific to least specific\n",
      "  - conda-forge\n",
      "\n",
      "dependencies:\n",
      "  # Required libraries to launch Jupyter Lab jobs\n",
      "  - jupyter\n",
      "  - jupyterlab\n",
      "\n",
      "  # Required libraries to interface with the SLURM queue with Dask\n",
      "  - dask\n",
      "  - dask-jobqueue\n",
      "  \n",
      "  # Add libraries needed for your research here as required\n",
      "  \n",
      "  # If your package is only available through pip, as a git repo or needs to be compiled locally, uncomment this section\n",
      "  # - pip\n",
      "  # - pip:\n",
      "  #   - package_name\n",
      "  #   - git+https://URL/TO/GIT/REPO\n",
      "  #   - -e /PATH/TO/LOCAL/PACKAGE\n"
     ]
    }
   ],
   "source": [
    "!cat /apps/conda-envs/custom.yml"
   ]
  }
 ],
 "metadata": {
  "kernelspec": {
   "display_name": "Python 3 (ipykernel)",
   "language": "python",
   "name": "python3"
  },
  "language_info": {
   "codemirror_mode": {
    "name": "ipython",
    "version": 3
   },
   "file_extension": ".py",
   "mimetype": "text/x-python",
   "name": "python",
   "nbconvert_exporter": "python",
   "pygments_lexer": "ipython3",
   "version": "3.10.8"
  }
 },
 "nbformat": 4,
 "nbformat_minor": 4
}
