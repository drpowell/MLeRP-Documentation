{
 "cells": [
  {
   "cell_type": "markdown",
   "metadata": {},
   "source": [
    "# PyTorch and Dask"
   ]
  },
  {
   "attachments": {},
   "cell_type": "markdown",
   "metadata": {},
   "source": [
    "Creating a cluster and performing some computation"
   ]
  },
  {
   "cell_type": "code",
   "execution_count": 1,
   "metadata": {},
   "outputs": [
    {
     "data": {
      "text/html": [
       "<div>\n",
       "    <div style=\"width: 24px; height: 24px; background-color: #e1e1e1; border: 3px solid #9D9D9D; border-radius: 5px; position: absolute;\"> </div>\n",
       "    <div style=\"margin-left: 48px;\">\n",
       "        <h3 style=\"margin-bottom: 0px;\">Client</h3>\n",
       "        <p style=\"color: #9D9D9D; margin-bottom: 0px;\">Client-f7e0db3c-a385-11ed-ad37-fa163ec805c7</p>\n",
       "        <table style=\"width: 100%; text-align: left;\">\n",
       "\n",
       "        <tr>\n",
       "        \n",
       "            <td style=\"text-align: left;\"><strong>Connection method:</strong> Cluster object</td>\n",
       "            <td style=\"text-align: left;\"><strong>Cluster type:</strong> dask_jobqueue.SLURMCluster</td>\n",
       "        \n",
       "        </tr>\n",
       "\n",
       "        \n",
       "            <tr>\n",
       "                <td style=\"text-align: left;\">\n",
       "                    <strong>Dashboard: </strong> <a href=\"http://192.168.0.234:8787/status\" target=\"_blank\">http://192.168.0.234:8787/status</a>\n",
       "                </td>\n",
       "                <td style=\"text-align: left;\"></td>\n",
       "            </tr>\n",
       "        \n",
       "\n",
       "        </table>\n",
       "\n",
       "        \n",
       "            <details>\n",
       "            <summary style=\"margin-bottom: 20px;\"><h3 style=\"display: inline;\">Cluster Info</h3></summary>\n",
       "            <div class=\"jp-RenderedHTMLCommon jp-RenderedHTML jp-mod-trusted jp-OutputArea-output\">\n",
       "    <div style=\"width: 24px; height: 24px; background-color: #e1e1e1; border: 3px solid #9D9D9D; border-radius: 5px; position: absolute;\">\n",
       "    </div>\n",
       "    <div style=\"margin-left: 48px;\">\n",
       "        <h3 style=\"margin-bottom: 0px; margin-top: 0px;\">SLURMCluster</h3>\n",
       "        <p style=\"color: #9D9D9D; margin-bottom: 0px;\">e98ff7e6</p>\n",
       "        <table style=\"width: 100%; text-align: left;\">\n",
       "            <tr>\n",
       "                <td style=\"text-align: left;\">\n",
       "                    <strong>Dashboard:</strong> <a href=\"http://192.168.0.234:8787/status\" target=\"_blank\">http://192.168.0.234:8787/status</a>\n",
       "                </td>\n",
       "                <td style=\"text-align: left;\">\n",
       "                    <strong>Workers:</strong> 0\n",
       "                </td>\n",
       "            </tr>\n",
       "            <tr>\n",
       "                <td style=\"text-align: left;\">\n",
       "                    <strong>Total threads:</strong> 0\n",
       "                </td>\n",
       "                <td style=\"text-align: left;\">\n",
       "                    <strong>Total memory:</strong> 0 B\n",
       "                </td>\n",
       "            </tr>\n",
       "            \n",
       "        </table>\n",
       "\n",
       "        <details>\n",
       "            <summary style=\"margin-bottom: 20px;\">\n",
       "                <h3 style=\"display: inline;\">Scheduler Info</h3>\n",
       "            </summary>\n",
       "\n",
       "            <div style=\"\">\n",
       "    <div>\n",
       "        <div style=\"width: 24px; height: 24px; background-color: #FFF7E5; border: 3px solid #FF6132; border-radius: 5px; position: absolute;\"> </div>\n",
       "        <div style=\"margin-left: 48px;\">\n",
       "            <h3 style=\"margin-bottom: 0px;\">Scheduler</h3>\n",
       "            <p style=\"color: #9D9D9D; margin-bottom: 0px;\">Scheduler-37f692e6-f520-4d8b-8bca-7bfa0bcd458a</p>\n",
       "            <table style=\"width: 100%; text-align: left;\">\n",
       "                <tr>\n",
       "                    <td style=\"text-align: left;\">\n",
       "                        <strong>Comm:</strong> tcp://192.168.0.234:35139\n",
       "                    </td>\n",
       "                    <td style=\"text-align: left;\">\n",
       "                        <strong>Workers:</strong> 0\n",
       "                    </td>\n",
       "                </tr>\n",
       "                <tr>\n",
       "                    <td style=\"text-align: left;\">\n",
       "                        <strong>Dashboard:</strong> <a href=\"http://192.168.0.234:8787/status\" target=\"_blank\">http://192.168.0.234:8787/status</a>\n",
       "                    </td>\n",
       "                    <td style=\"text-align: left;\">\n",
       "                        <strong>Total threads:</strong> 0\n",
       "                    </td>\n",
       "                </tr>\n",
       "                <tr>\n",
       "                    <td style=\"text-align: left;\">\n",
       "                        <strong>Started:</strong> Just now\n",
       "                    </td>\n",
       "                    <td style=\"text-align: left;\">\n",
       "                        <strong>Total memory:</strong> 0 B\n",
       "                    </td>\n",
       "                </tr>\n",
       "            </table>\n",
       "        </div>\n",
       "    </div>\n",
       "\n",
       "    <details style=\"margin-left: 48px;\">\n",
       "        <summary style=\"margin-bottom: 20px;\">\n",
       "            <h3 style=\"display: inline;\">Workers</h3>\n",
       "        </summary>\n",
       "\n",
       "        \n",
       "\n",
       "    </details>\n",
       "</div>\n",
       "\n",
       "        </details>\n",
       "    </div>\n",
       "</div>\n",
       "            </details>\n",
       "        \n",
       "\n",
       "    </div>\n",
       "</div>"
      ],
      "text/plain": [
       "<Client: 'tcp://192.168.0.234:35139' processes=0 threads=0, memory=0 B>"
      ]
     },
     "execution_count": 1,
     "metadata": {},
     "output_type": "execute_result"
    }
   ],
   "source": [
    "from dask_jobqueue import SLURMCluster\n",
    "from distributed import Client, LocalCluster\n",
    "from dask import delayed\n",
    "import dask\n",
    "\n",
    "cluster = SLURMCluster(\n",
    "    memory=\"64g\", processes=1, cores=2\n",
    ")\n",
    "num_nodes = 4\n",
    "\n",
    "cluster.scale(num_nodes)\n",
    "# cluster = LocalCluster(processes=False)\n",
    "client = Client(cluster)\n",
    "client"
   ]
  },
  {
   "cell_type": "code",
   "execution_count": 2,
   "metadata": {},
   "outputs": [
    {
     "name": "stdout",
     "output_type": "stream",
     "text": [
      "             JOBID PARTITION     NAME     USER ST       TIME  NODES NODELIST(REASON)\n",
      "              1281     batch dask-wor mhar0048 PD       0:00      1 (None)\n",
      "              1280     batch dask-wor mhar0048 PD       0:00      1 (None)\n",
      "              1279     batch dask-wor mhar0048 PD       0:00      1 (None)\n",
      "              1278     batch dask-wor mhar0048 PD       0:00      1 (None)\n",
      "              1219     batch Jupyter      bpal  R    2:00:17      1 mlerp-node05\n",
      "              1215     batch Jupyter    yiliao  R 1-02:40:35      1 mlerp-node09\n",
      "              1214     batch Jupyter    yiliao  R 1-02:44:11      1 mlerp-node05\n",
      "              1221     batch Jupyter  mhar0048  R    1:28:19      1 mlerp-node09\n"
     ]
    }
   ],
   "source": [
    "# Note how dask spins our jobs up in anticipation for work\n",
    "!squeue"
   ]
  },
  {
   "cell_type": "code",
   "execution_count": 3,
   "metadata": {},
   "outputs": [
    {
     "data": {
      "text/plain": [
       "<distributed.deploy.adaptive.Adaptive at 0x7f26e65f96c0>"
      ]
     },
     "execution_count": 3,
     "metadata": {},
     "output_type": "execute_result"
    }
   ],
   "source": [
    "# The adapt method will let us scale out as we need the compute\n",
    "# ...and scale back when we're idle\n",
    "cluster.adapt(minimum=0, maximum=num_nodes)"
   ]
  },
  {
   "cell_type": "code",
   "execution_count": 4,
   "metadata": {},
   "outputs": [
    {
     "name": "stdout",
     "output_type": "stream",
     "text": [
      "             JOBID PARTITION     NAME     USER ST       TIME  NODES NODELIST(REASON)\n",
      "              1219     batch Jupyter      bpal  R    2:00:18      1 mlerp-node05\n",
      "              1215     batch Jupyter    yiliao  R 1-02:40:36      1 mlerp-node09\n",
      "              1214     batch Jupyter    yiliao  R 1-02:44:12      1 mlerp-node05\n",
      "              1221     batch Jupyter  mhar0048  R    1:28:20      1 mlerp-node09\n",
      "              1278     batch dask-wor mhar0048  R       0:01      1 mlerp-node05\n",
      "              1279     batch dask-wor mhar0048  R       0:01      1 mlerp-node05\n",
      "              1280     batch dask-wor mhar0048  R       0:01      1 mlerp-node05\n",
      "              1281     batch dask-wor mhar0048  R       0:01      1 mlerp-node05\n"
     ]
    }
   ],
   "source": [
    "!squeue"
   ]
  },
  {
   "cell_type": "code",
   "execution_count": 5,
   "metadata": {},
   "outputs": [
    {
     "data": {
      "text/html": [
       "<table>\n",
       "    <tr>\n",
       "        <td>\n",
       "            <table>\n",
       "                <thead>\n",
       "                    <tr>\n",
       "                        <td> </td>\n",
       "                        <th> Array </th>\n",
       "                        <th> Chunk </th>\n",
       "                    </tr>\n",
       "                </thead>\n",
       "                <tbody>\n",
       "                    \n",
       "                    <tr>\n",
       "                        <th> Bytes </th>\n",
       "                        <td> 7.45 GiB </td>\n",
       "                        <td> 119.21 MiB </td>\n",
       "                    </tr>\n",
       "                    \n",
       "                    <tr>\n",
       "                        <th> Shape </th>\n",
       "                        <td> (1000, 1000, 1000) </td>\n",
       "                        <td> (250, 250, 250) </td>\n",
       "                    </tr>\n",
       "                    <tr>\n",
       "                        <th> Count </th>\n",
       "                        <td> 64 Tasks </td>\n",
       "                        <td> 64 Chunks </td>\n",
       "                    </tr>\n",
       "                    <tr>\n",
       "                    <th> Type </th>\n",
       "                    <td> float64 </td>\n",
       "                    <td> numpy.ndarray </td>\n",
       "                    </tr>\n",
       "                </tbody>\n",
       "            </table>\n",
       "        </td>\n",
       "        <td>\n",
       "        <svg width=\"250\" height=\"240\" style=\"stroke:rgb(0,0,0);stroke-width:1\" >\n",
       "\n",
       "  <!-- Horizontal lines -->\n",
       "  <line x1=\"10\" y1=\"0\" x2=\"80\" y2=\"70\" style=\"stroke-width:2\" />\n",
       "  <line x1=\"10\" y1=\"30\" x2=\"80\" y2=\"100\" />\n",
       "  <line x1=\"10\" y1=\"60\" x2=\"80\" y2=\"130\" />\n",
       "  <line x1=\"10\" y1=\"90\" x2=\"80\" y2=\"160\" />\n",
       "  <line x1=\"10\" y1=\"120\" x2=\"80\" y2=\"190\" style=\"stroke-width:2\" />\n",
       "\n",
       "  <!-- Vertical lines -->\n",
       "  <line x1=\"10\" y1=\"0\" x2=\"10\" y2=\"120\" style=\"stroke-width:2\" />\n",
       "  <line x1=\"27\" y1=\"17\" x2=\"27\" y2=\"137\" />\n",
       "  <line x1=\"45\" y1=\"35\" x2=\"45\" y2=\"155\" />\n",
       "  <line x1=\"62\" y1=\"52\" x2=\"62\" y2=\"172\" />\n",
       "  <line x1=\"80\" y1=\"70\" x2=\"80\" y2=\"190\" style=\"stroke-width:2\" />\n",
       "\n",
       "  <!-- Colored Rectangle -->\n",
       "  <polygon points=\"10.0,0.0 80.58823529411765,70.58823529411765 80.58823529411765,190.58823529411765 10.0,120.0\" style=\"fill:#ECB172A0;stroke-width:0\"/>\n",
       "\n",
       "  <!-- Horizontal lines -->\n",
       "  <line x1=\"10\" y1=\"0\" x2=\"130\" y2=\"0\" style=\"stroke-width:2\" />\n",
       "  <line x1=\"27\" y1=\"17\" x2=\"147\" y2=\"17\" />\n",
       "  <line x1=\"45\" y1=\"35\" x2=\"165\" y2=\"35\" />\n",
       "  <line x1=\"62\" y1=\"52\" x2=\"182\" y2=\"52\" />\n",
       "  <line x1=\"80\" y1=\"70\" x2=\"200\" y2=\"70\" style=\"stroke-width:2\" />\n",
       "\n",
       "  <!-- Vertical lines -->\n",
       "  <line x1=\"10\" y1=\"0\" x2=\"80\" y2=\"70\" style=\"stroke-width:2\" />\n",
       "  <line x1=\"40\" y1=\"0\" x2=\"110\" y2=\"70\" />\n",
       "  <line x1=\"70\" y1=\"0\" x2=\"140\" y2=\"70\" />\n",
       "  <line x1=\"100\" y1=\"0\" x2=\"170\" y2=\"70\" />\n",
       "  <line x1=\"130\" y1=\"0\" x2=\"200\" y2=\"70\" style=\"stroke-width:2\" />\n",
       "\n",
       "  <!-- Colored Rectangle -->\n",
       "  <polygon points=\"10.0,0.0 130.0,0.0 200.58823529411765,70.58823529411765 80.58823529411765,70.58823529411765\" style=\"fill:#ECB172A0;stroke-width:0\"/>\n",
       "\n",
       "  <!-- Horizontal lines -->\n",
       "  <line x1=\"80\" y1=\"70\" x2=\"200\" y2=\"70\" style=\"stroke-width:2\" />\n",
       "  <line x1=\"80\" y1=\"100\" x2=\"200\" y2=\"100\" />\n",
       "  <line x1=\"80\" y1=\"130\" x2=\"200\" y2=\"130\" />\n",
       "  <line x1=\"80\" y1=\"160\" x2=\"200\" y2=\"160\" />\n",
       "  <line x1=\"80\" y1=\"190\" x2=\"200\" y2=\"190\" style=\"stroke-width:2\" />\n",
       "\n",
       "  <!-- Vertical lines -->\n",
       "  <line x1=\"80\" y1=\"70\" x2=\"80\" y2=\"190\" style=\"stroke-width:2\" />\n",
       "  <line x1=\"110\" y1=\"70\" x2=\"110\" y2=\"190\" />\n",
       "  <line x1=\"140\" y1=\"70\" x2=\"140\" y2=\"190\" />\n",
       "  <line x1=\"170\" y1=\"70\" x2=\"170\" y2=\"190\" />\n",
       "  <line x1=\"200\" y1=\"70\" x2=\"200\" y2=\"190\" style=\"stroke-width:2\" />\n",
       "\n",
       "  <!-- Colored Rectangle -->\n",
       "  <polygon points=\"80.58823529411765,70.58823529411765 200.58823529411765,70.58823529411765 200.58823529411765,190.58823529411765 80.58823529411765,190.58823529411765\" style=\"fill:#ECB172A0;stroke-width:0\"/>\n",
       "\n",
       "  <!-- Text -->\n",
       "  <text x=\"140.588235\" y=\"210.588235\" font-size=\"1.0rem\" font-weight=\"100\" text-anchor=\"middle\" >1000</text>\n",
       "  <text x=\"220.588235\" y=\"130.588235\" font-size=\"1.0rem\" font-weight=\"100\" text-anchor=\"middle\" transform=\"rotate(-90,220.588235,130.588235)\">1000</text>\n",
       "  <text x=\"35.294118\" y=\"175.294118\" font-size=\"1.0rem\" font-weight=\"100\" text-anchor=\"middle\" transform=\"rotate(45,35.294118,175.294118)\">1000</text>\n",
       "</svg>\n",
       "        </td>\n",
       "    </tr>\n",
       "</table>"
      ],
      "text/plain": [
       "dask.array<random_sample, shape=(1000, 1000, 1000), dtype=float64, chunksize=(250, 250, 250), chunktype=numpy.ndarray>"
      ]
     },
     "execution_count": 5,
     "metadata": {},
     "output_type": "execute_result"
    }
   ],
   "source": [
    "# da lets us scale out to the cluster more efficiently than npy\n",
    "import dask.array as da\n",
    "x = da.random.random((1000, 1000, 1000))\n",
    "x"
   ]
  },
  {
   "cell_type": "code",
   "execution_count": 6,
   "metadata": {},
   "outputs": [
    {
     "data": {
      "text/plain": [
       "array([[[0.80405356, 0.9411835 , 0.36007594, ..., 0.02030094,\n",
       "         0.21212197, 0.04754458],\n",
       "        [0.37128642, 0.41310666, 0.3325612 , ..., 0.03798152,\n",
       "         0.97033965, 0.2630301 ],\n",
       "        [0.95302605, 0.60717619, 0.62279257, ..., 0.02378131,\n",
       "         0.70891056, 0.81519154],\n",
       "        ...,\n",
       "        [0.30911321, 0.73415001, 0.82579783, ..., 0.7332855 ,\n",
       "         0.18230327, 0.76288013],\n",
       "        [0.65094855, 0.05512554, 0.26758382, ..., 0.35832722,\n",
       "         0.20738108, 0.90697372],\n",
       "        [0.26231634, 0.25318755, 0.69022836, ..., 0.71864553,\n",
       "         0.37859832, 0.76530203]],\n",
       "\n",
       "       [[0.34433539, 0.66980218, 0.68812066, ..., 0.32081888,\n",
       "         0.56447307, 0.12123862],\n",
       "        [0.55811689, 0.12125049, 0.65635326, ..., 0.73970724,\n",
       "         0.19334334, 0.98051351],\n",
       "        [0.48441865, 0.21664218, 0.58182796, ..., 0.07877517,\n",
       "         0.14306654, 0.25959297],\n",
       "        ...,\n",
       "        [0.35796157, 0.09189718, 0.26532135, ..., 0.3219118 ,\n",
       "         0.5925287 , 0.76672455],\n",
       "        [0.43462297, 0.75481253, 0.2322472 , ..., 0.76859228,\n",
       "         0.13368511, 0.2091517 ],\n",
       "        [0.52659485, 0.74455563, 0.90677748, ..., 0.10407162,\n",
       "         0.93006215, 0.42391763]],\n",
       "\n",
       "       [[0.77141176, 0.15114526, 0.64146727, ..., 0.75800101,\n",
       "         0.75186111, 0.77422151],\n",
       "        [0.01051191, 0.10096774, 0.94225989, ..., 0.63324323,\n",
       "         0.16319304, 0.41434006],\n",
       "        [0.55029113, 0.93732469, 0.46078692, ..., 0.17979843,\n",
       "         0.59875133, 0.15587219],\n",
       "        ...,\n",
       "        [0.87094327, 0.51629635, 0.98744198, ..., 0.30672362,\n",
       "         0.81536066, 0.8998911 ],\n",
       "        [0.55365712, 0.6167347 , 0.46285677, ..., 0.60666892,\n",
       "         0.96961292, 0.86868112],\n",
       "        [0.49998212, 0.41486038, 0.82788801, ..., 0.59674672,\n",
       "         0.69961265, 0.64022323]],\n",
       "\n",
       "       ...,\n",
       "\n",
       "       [[0.57523093, 0.43809641, 0.44905788, ..., 0.84741977,\n",
       "         0.85955208, 0.71244675],\n",
       "        [0.96700815, 0.95143174, 0.01833945, ..., 0.9328652 ,\n",
       "         0.65566492, 0.31434422],\n",
       "        [0.15852136, 0.50746669, 0.7835905 , ..., 0.36390995,\n",
       "         0.26247655, 0.3548215 ],\n",
       "        ...,\n",
       "        [0.82287181, 0.75893833, 0.62227135, ..., 0.38444606,\n",
       "         0.4536757 , 0.38707759],\n",
       "        [0.65099276, 0.58308955, 0.67608241, ..., 0.18988524,\n",
       "         0.49005107, 0.6468958 ],\n",
       "        [0.83604021, 0.34575078, 0.62508758, ..., 0.72492961,\n",
       "         0.53893615, 0.82786395]],\n",
       "\n",
       "       [[0.96049047, 0.80908212, 0.10957813, ..., 0.25702605,\n",
       "         0.00563967, 0.11076371],\n",
       "        [0.29417808, 0.14897381, 0.32565191, ..., 0.39874595,\n",
       "         0.06343255, 0.97545354],\n",
       "        [0.56703456, 0.62414224, 0.06867437, ..., 0.97361317,\n",
       "         0.78434142, 0.25123815],\n",
       "        ...,\n",
       "        [0.33691071, 0.14828457, 0.30146926, ..., 0.52286318,\n",
       "         0.3128888 , 0.3127848 ],\n",
       "        [0.45637031, 0.82776154, 0.66861002, ..., 0.3079542 ,\n",
       "         0.67820518, 0.96426586],\n",
       "        [0.37302069, 0.46978489, 0.86831814, ..., 0.07764255,\n",
       "         0.53443384, 0.95114142]],\n",
       "\n",
       "       [[0.12269744, 0.8930674 , 0.11933521, ..., 0.33713209,\n",
       "         0.38639078, 0.91907238],\n",
       "        [0.62054399, 0.27601798, 0.82711898, ..., 0.63858475,\n",
       "         0.03849242, 0.28909551],\n",
       "        [0.00977643, 0.93391078, 0.41903474, ..., 0.19875904,\n",
       "         0.06469424, 0.82704449],\n",
       "        ...,\n",
       "        [0.02562768, 0.99872526, 0.12354659, ..., 0.53200441,\n",
       "         0.8246504 , 0.10105179],\n",
       "        [0.35182898, 0.21201345, 0.80478328, ..., 0.38623127,\n",
       "         0.2111872 , 0.47357816],\n",
       "        [0.676628  , 0.37253992, 0.00227793, ..., 0.46802298,\n",
       "         0.14771799, 0.74902262]]])"
      ]
     },
     "execution_count": 6,
     "metadata": {},
     "output_type": "execute_result"
    }
   ],
   "source": [
    "# dask evaluates lazily, retuning 'futures'\n",
    "# they can then be computed later for its value\n",
    "x.compute()"
   ]
  },
  {
   "cell_type": "code",
   "execution_count": 29,
   "metadata": {},
   "outputs": [
    {
     "name": "stderr",
     "output_type": "stream",
     "text": [
      "/userdata/mhar0048/miniconda/conda/envs/dask/lib/python3.10/site-packages/distributed/node.py:179: UserWarning: Port 8787 is already in use.\n",
      "Perhaps you already have a cluster running?\n",
      "Hosting the HTTP server on port 32809 instead\n",
      "  warnings.warn(\n"
     ]
    }
   ],
   "source": [
    "# Let's switch to a localcluster for easier active development\n",
    "# This will make all code execute locally\n",
    "# We need to make proccesses=False to allow for multiprocessing inside Dask jobs\n",
    "# for the local cluster to work with PyTorch\n",
    "client.shutdown()\n",
    "cluster = LocalCluster(processes=False)\n",
    "client = Client(cluster)"
   ]
  },
  {
   "attachments": {},
   "cell_type": "markdown",
   "metadata": {},
   "source": [
    "### Let's see how Dask works with a typical PyTorch workflow\n",
    "Content adapted from: https://pytorch.org/tutorials/beginner/blitz/cifar10_tutorial.html"
   ]
  },
  {
   "cell_type": "code",
   "execution_count": 40,
   "metadata": {},
   "outputs": [
    {
     "name": "stdout",
     "output_type": "stream",
     "text": [
      "Files already downloaded and verified\n"
     ]
    }
   ],
   "source": [
    "import torch\n",
    "import torchvision\n",
    "import torchvision.transforms as transforms\n",
    "import torch.multiprocessing as mp\n",
    "\n",
    "# Define data transformations\n",
    "transform = transforms.Compose(\n",
    "    [transforms.ToTensor(),\n",
    "     transforms.Normalize((0.5, 0.5, 0.5), (0.5, 0.5, 0.5))])\n",
    "\n",
    "# Define dataset and dataloader\n",
    "batch_size = 1024\n",
    "trainset = torchvision.datasets.CIFAR10(root='./data', train=True,\n",
    "                                        download=True, transform=transform)\n",
    "trainloader = torch.utils.data.DataLoader(trainset, batch_size=batch_size,\n",
    "                                          shuffle=True, num_workers=2, multiprocessing_context=mp.get_context(\"fork\"))"
   ]
  },
  {
   "cell_type": "code",
   "execution_count": 31,
   "metadata": {},
   "outputs": [],
   "source": [
    "# Define a simple conv net\n",
    "import torch.nn as nn\n",
    "import torch.nn.functional as F\n",
    "\n",
    "class Net(nn.Module):\n",
    "    def __init__(self):\n",
    "        super().__init__()\n",
    "        self.conv1 = nn.Conv2d(3, 16, 3, stride=2, padding=1)\n",
    "        self.conv2 = nn.Conv2d(16, 16, 3, stride=1, padding=1)\n",
    "        self.conv3 = nn.Conv2d(16, 32, 3, stride=2, padding=1)\n",
    "        self.conv4 = nn.Conv2d(32, 32, 3, stride=1, padding=1)\n",
    "        self.conv5 = nn.Conv2d(32, 64, 3, stride=2, padding=1)\n",
    "        self.conv6 = nn.Conv2d(64, 64, 3, stride=1, padding=1)\n",
    "        self.fc1 = nn.Linear(4 * 4 * 64, 4 * 64)\n",
    "        self.fc2 = nn.Linear(4 * 64, 64)\n",
    "        self.fc3 = nn.Linear(64, 10)\n",
    "\n",
    "    def forward(self, x):\n",
    "        x = F.relu(self.conv1(x))\n",
    "        x = F.relu(self.conv2(x))\n",
    "        x = F.relu(self.conv3(x))\n",
    "        x = F.relu(self.conv4(x))\n",
    "        x = F.relu(self.conv5(x))\n",
    "        x = F.relu(self.conv6(x))\n",
    "        x = torch.flatten(x, 1)  # flatten all dimensions except batch\n",
    "        x = F.relu(self.fc1(x))\n",
    "        x = F.relu(self.fc2(x))\n",
    "        x = self.fc3(x)\n",
    "        return x"
   ]
  },
  {
   "cell_type": "code",
   "execution_count": 32,
   "metadata": {},
   "outputs": [],
   "source": [
    "import torch.optim as optim\n",
    "from tqdm.notebook import tqdm\n",
    "criterion = nn.CrossEntropyLoss()\n",
    "\n",
    "# Train one epoch\n",
    "def train(loader, path=\"./model\", load=False, test=False):\n",
    "    # Initialise model, optimizer and device\n",
    "    model = Net()\n",
    "    optimizer = optim.Adam(model.parameters(), lr=3e-4)\n",
    "    device = \"cuda\" if torch.cuda.is_available() else \"cpu\"\n",
    "    \n",
    "    # Load state from disk so that we can split up the job\n",
    "    if load: \n",
    "        state = torch.load(path)\n",
    "        model.load_state_dict(state[\"model\"])\n",
    "        model.to(device)\n",
    "        optimizer.load_state_dict(state[\"optimizer\"])\n",
    "    else:\n",
    "        model.to(device)\n",
    "    \n",
    "    # A typical PyTorch training loop\n",
    "    running_loss = 0\n",
    "    for i, (inputs, labels) in enumerate(trainloader):\n",
    "        # put the inputs on the device\n",
    "        inputs, labels = inputs.to(device), labels.to(device)\n",
    "\n",
    "        # zero the parameter gradients\n",
    "        optimizer.zero_grad()\n",
    "\n",
    "        # forward + backward + optimize\n",
    "        outputs = model(inputs)\n",
    "        loss = criterion(outputs, labels)\n",
    "        loss.backward()\n",
    "        optimizer.step()\n",
    "        running_loss += loss.detach().item()\n",
    "        \n",
    "        # Stop after one batch when testing        \n",
    "        if test: \n",
    "            print(\"When running in a local cluster you can see print statements\")\n",
    "            break\n",
    "    \n",
    "    torch.save({\n",
    "        \"model\": model.state_dict(),\n",
    "        \"optimizer\": optimizer.state_dict()\n",
    "        }, path)\n",
    "    \n",
    "    return running_loss / len(trainloader) if not test else loss.detach().item()"
   ]
  },
  {
   "cell_type": "code",
   "execution_count": 33,
   "metadata": {},
   "outputs": [
    {
     "name": "stdout",
     "output_type": "stream",
     "text": [
      "When running in a local cluster you can see print statements\n"
     ]
    },
    {
     "data": {
      "text/plain": [
       "2.3047292232513428"
      ]
     },
     "execution_count": 33,
     "metadata": {},
     "output_type": "execute_result"
    }
   ],
   "source": [
    "# Test our code locally first\n",
    "client.submit(train, trainloader, test=True).result()"
   ]
  },
  {
   "cell_type": "code",
   "execution_count": 36,
   "metadata": {},
   "outputs": [
    {
     "name": "stderr",
     "output_type": "stream",
     "text": [
      "/userdata/mhar0048/miniconda/conda/envs/dask/lib/python3.10/site-packages/distributed/node.py:179: UserWarning: Port 8787 is already in use.\n",
      "Perhaps you already have a cluster running?\n",
      "Hosting the HTTP server on port 42077 instead\n",
      "  warnings.warn(\n"
     ]
    },
    {
     "data": {
      "text/html": [
       "<div>\n",
       "    <div style=\"width: 24px; height: 24px; background-color: #e1e1e1; border: 3px solid #9D9D9D; border-radius: 5px; position: absolute;\"> </div>\n",
       "    <div style=\"margin-left: 48px;\">\n",
       "        <h3 style=\"margin-bottom: 0px;\">Client</h3>\n",
       "        <p style=\"color: #9D9D9D; margin-bottom: 0px;\">Client-330b080e-a387-11ed-ad37-fa163ec805c7</p>\n",
       "        <table style=\"width: 100%; text-align: left;\">\n",
       "\n",
       "        <tr>\n",
       "        \n",
       "            <td style=\"text-align: left;\"><strong>Connection method:</strong> Cluster object</td>\n",
       "            <td style=\"text-align: left;\"><strong>Cluster type:</strong> dask_jobqueue.SLURMCluster</td>\n",
       "        \n",
       "        </tr>\n",
       "\n",
       "        \n",
       "            <tr>\n",
       "                <td style=\"text-align: left;\">\n",
       "                    <strong>Dashboard: </strong> <a href=\"http://192.168.0.234:42077/status\" target=\"_blank\">http://192.168.0.234:42077/status</a>\n",
       "                </td>\n",
       "                <td style=\"text-align: left;\"></td>\n",
       "            </tr>\n",
       "        \n",
       "\n",
       "        </table>\n",
       "\n",
       "        \n",
       "            <details>\n",
       "            <summary style=\"margin-bottom: 20px;\"><h3 style=\"display: inline;\">Cluster Info</h3></summary>\n",
       "            <div class=\"jp-RenderedHTMLCommon jp-RenderedHTML jp-mod-trusted jp-OutputArea-output\">\n",
       "    <div style=\"width: 24px; height: 24px; background-color: #e1e1e1; border: 3px solid #9D9D9D; border-radius: 5px; position: absolute;\">\n",
       "    </div>\n",
       "    <div style=\"margin-left: 48px;\">\n",
       "        <h3 style=\"margin-bottom: 0px; margin-top: 0px;\">SLURMCluster</h3>\n",
       "        <p style=\"color: #9D9D9D; margin-bottom: 0px;\">fe220814</p>\n",
       "        <table style=\"width: 100%; text-align: left;\">\n",
       "            <tr>\n",
       "                <td style=\"text-align: left;\">\n",
       "                    <strong>Dashboard:</strong> <a href=\"http://192.168.0.234:42077/status\" target=\"_blank\">http://192.168.0.234:42077/status</a>\n",
       "                </td>\n",
       "                <td style=\"text-align: left;\">\n",
       "                    <strong>Workers:</strong> 0\n",
       "                </td>\n",
       "            </tr>\n",
       "            <tr>\n",
       "                <td style=\"text-align: left;\">\n",
       "                    <strong>Total threads:</strong> 0\n",
       "                </td>\n",
       "                <td style=\"text-align: left;\">\n",
       "                    <strong>Total memory:</strong> 0 B\n",
       "                </td>\n",
       "            </tr>\n",
       "            \n",
       "        </table>\n",
       "\n",
       "        <details>\n",
       "            <summary style=\"margin-bottom: 20px;\">\n",
       "                <h3 style=\"display: inline;\">Scheduler Info</h3>\n",
       "            </summary>\n",
       "\n",
       "            <div style=\"\">\n",
       "    <div>\n",
       "        <div style=\"width: 24px; height: 24px; background-color: #FFF7E5; border: 3px solid #FF6132; border-radius: 5px; position: absolute;\"> </div>\n",
       "        <div style=\"margin-left: 48px;\">\n",
       "            <h3 style=\"margin-bottom: 0px;\">Scheduler</h3>\n",
       "            <p style=\"color: #9D9D9D; margin-bottom: 0px;\">Scheduler-28b9d10e-ba6f-45b6-a2f7-aa82685a6e2d</p>\n",
       "            <table style=\"width: 100%; text-align: left;\">\n",
       "                <tr>\n",
       "                    <td style=\"text-align: left;\">\n",
       "                        <strong>Comm:</strong> tcp://192.168.0.234:37145\n",
       "                    </td>\n",
       "                    <td style=\"text-align: left;\">\n",
       "                        <strong>Workers:</strong> 0\n",
       "                    </td>\n",
       "                </tr>\n",
       "                <tr>\n",
       "                    <td style=\"text-align: left;\">\n",
       "                        <strong>Dashboard:</strong> <a href=\"http://192.168.0.234:42077/status\" target=\"_blank\">http://192.168.0.234:42077/status</a>\n",
       "                    </td>\n",
       "                    <td style=\"text-align: left;\">\n",
       "                        <strong>Total threads:</strong> 0\n",
       "                    </td>\n",
       "                </tr>\n",
       "                <tr>\n",
       "                    <td style=\"text-align: left;\">\n",
       "                        <strong>Started:</strong> Just now\n",
       "                    </td>\n",
       "                    <td style=\"text-align: left;\">\n",
       "                        <strong>Total memory:</strong> 0 B\n",
       "                    </td>\n",
       "                </tr>\n",
       "            </table>\n",
       "        </div>\n",
       "    </div>\n",
       "\n",
       "    <details style=\"margin-left: 48px;\">\n",
       "        <summary style=\"margin-bottom: 20px;\">\n",
       "            <h3 style=\"display: inline;\">Workers</h3>\n",
       "        </summary>\n",
       "\n",
       "        \n",
       "\n",
       "    </details>\n",
       "</div>\n",
       "\n",
       "        </details>\n",
       "    </div>\n",
       "</div>\n",
       "            </details>\n",
       "        \n",
       "\n",
       "    </div>\n",
       "</div>"
      ],
      "text/plain": [
       "<Client: 'tcp://192.168.0.234:37145' processes=0 threads=0, memory=0 B>"
      ]
     },
     "execution_count": 36,
     "metadata": {},
     "output_type": "execute_result"
    }
   ],
   "source": [
    "# We need to turn off the nanny to allow for multiprocessing inside Dask jobs for the cluster to work with PyTorch\n",
    "# We can pass in SLURM requirements to ensure we get a GPU for our jobs\n",
    "client.shutdown()\n",
    "cluster = SLURMCluster(\n",
    "    memory=\"64g\", processes=1, cores=2, job_extra_directives=[\"--gres=gpu:1\"], nanny=False\n",
    ")\n",
    "\n",
    "client = Client(cluster)"
   ]
  },
  {
   "cell_type": "code",
   "execution_count": 37,
   "metadata": {},
   "outputs": [
    {
     "data": {
      "text/plain": [
       "2.30440616607666"
      ]
     },
     "execution_count": 37,
     "metadata": {},
     "output_type": "execute_result"
    }
   ],
   "source": [
    "# Test our code on the SLURM cluster\n",
    "client.submit(train, trainloader, test=True).result()"
   ]
  },
  {
   "cell_type": "code",
   "execution_count": 38,
   "metadata": {},
   "outputs": [
    {
     "data": {
      "application/vnd.jupyter.widget-view+json": {
       "model_id": "252e41ce24f7447e99bb6e1c182fe7dd",
       "version_major": 2,
       "version_minor": 0
      },
      "text/plain": [
       "  0%|          | 0/2 [00:00<?, ?it/s]"
      ]
     },
     "metadata": {},
     "output_type": "display_data"
    },
    {
     "name": "stderr",
     "output_type": "stream",
     "text": [
      "2023-02-03 05:54:49,086 - distributed.client - ERROR - Failed to reconnect to scheduler after 30.00 seconds, closing client\n"
     ]
    },
    {
     "name": "stdout",
     "output_type": "stream",
     "text": [
      "epoch: 0 loss:  2.250\n",
      "epoch: 1 loss:  1.999\n"
     ]
    }
   ],
   "source": [
    "# Run the training loop\n",
    "epochs = 2\n",
    "\n",
    "with tqdm(total=(epochs)) as pbar:\n",
    "    for epoch in range(epochs):\n",
    "        loss = client.submit(train, trainloader, load=epochs).result()\n",
    "        pbar.update()\n",
    "        pbar.set_postfix(loss=loss)\n",
    "        print(f\"epoch: {epoch} loss: {loss : .3f}\")\n",
    "client.shutdown()"
   ]
  }
 ],
 "metadata": {
  "kernelspec": {
   "display_name": "dask",
   "language": "python",
   "name": "python3"
  },
  "language_info": {
   "codemirror_mode": {
    "name": "ipython",
    "version": 3
   },
   "file_extension": ".py",
   "mimetype": "text/x-python",
   "name": "python",
   "nbconvert_exporter": "python",
   "pygments_lexer": "ipython3",
   "version": "3.10.9"
  },
  "orig_nbformat": 4,
  "vscode": {
   "interpreter": {
    "hash": "db096b8404a4f1f3e1df0cc89f001e138448327417ef835d10f5a76aa612f160"
   }
  }
 },
 "nbformat": 4,
 "nbformat_minor": 2
}
