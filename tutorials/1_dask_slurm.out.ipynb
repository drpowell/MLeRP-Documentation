{
  "cells": [
    {
      "cell_type": "markdown",
      "metadata": {},
      "source": [
        "# Dask SLURMClusters\n",
        "\n",
        "The MLeRP notebook environment uses Dask SLURMClusters to create a\n",
        "middle ground that has the interactivity of a notebook backed by the\n",
        "power of HPC. You will be provisioned with a CPU based notebook session\n",
        "for your basic analysis and code development. Then, when you’re ready to\n",
        "run tests you will use Dask to submit your python functions to the SLURM\n",
        "queue.\n",
        "\n",
        "This enables: - Flexibility to experiment with your dataset\n",
        "interactively - Ability to change compute requirements such as RAM, size\n",
        "of GPU, number of processes and so on… without ever leaving the notebook\n",
        "environment - Elastic scaling of compute - Efficient utilisation of the\n",
        "hardware - Releasing of resources when not in use"
      ],
      "id": "23137a5d-fc0c-4c77-b7a8-560f4d83fefa"
    },
    {
      "cell_type": "code",
      "execution_count": null,
      "metadata": {},
      "outputs": [],
      "source": [
        "from dask_jobqueue import SLURMCluster\n",
        "from distributed import Client, LocalCluster\n",
        "import dask\n",
        "\n",
        "# Point Dask to the SLURM to use as it's back end\n",
        "cluster = SLURMCluster(\n",
        "    memory=\"64g\", processes=1, cores=8\n",
        ")\n",
        "\n",
        "# Scale out to 4 nodes\n",
        "num_nodes = 4\n",
        "cluster.scale(num_nodes)\n",
        "client = Client(cluster)"
      ],
      "id": "576bacad-92a7-4ff7-8d7d-e01dcc1abf06"
    },
    {
      "cell_type": "markdown",
      "metadata": {},
      "source": [
        "Dask will now spin our jobs up in anticipation for work to the scale\n",
        "that you specify.\n",
        "\n",
        "You can check in on your jobs like you would with any other SLURM job\n",
        "with `squeue`."
      ],
      "id": "2eb0e3fe-4253-4354-8f20-8fb709d48448"
    },
    {
      "cell_type": "code",
      "execution_count": 2,
      "metadata": {},
      "outputs": [
        {
          "output_type": "stream",
          "name": "stdout",
          "text": [
            "             JOBID PARTITION     NAME     USER ST       TIME  NODES NODELIST(REASON)\n",
            "              1637     batch Jupyter  mhar0048  R      42:23      1 mlerp-node05\n",
            "              1638     batch dask-wor mhar0048  R       0:16      1 mlerp-node05\n",
            "              1639     batch dask-wor mhar0048  R       0:16      1 mlerp-node05\n",
            "              1640     batch dask-wor mhar0048  R       0:16      1 mlerp-node05\n",
            "              1641     batch dask-wor mhar0048  R       0:16      1 mlerp-node05"
          ]
        }
      ],
      "source": [
        "!squeue"
      ],
      "id": "b86d56ff-dfa4-4677-806e-f173b31f393c"
    },
    {
      "cell_type": "markdown",
      "metadata": {},
      "source": [
        "Alternatively, we can use the adapt method, which will let us scale out\n",
        "as we need the compute… and scale back when we’re idle letting others\n",
        "use the cluster.\n",
        "\n",
        "We reccommend that you use the adapt method while you’re actively\n",
        "developing your code so that you don’t need to worry about cleaning up\n",
        "after yourself. The scale method can be used when you’re ready to run\n",
        "longer tests with higher utilisation."
      ],
      "id": "e96cc923-20db-460e-a9ec-4286ed0a9ce2"
    },
    {
      "cell_type": "code",
      "execution_count": 3,
      "metadata": {},
      "outputs": [
        {
          "output_type": "display_data",
          "metadata": {},
          "data": {
            "text/plain": [
              "<distributed.deploy.adaptive.Adaptive at 0x7f85ea9ec820>"
            ]
          }
        }
      ],
      "source": [
        "cluster.adapt(minimum=0, maximum=num_nodes)"
      ],
      "id": "fad56a2a-04df-49e5-9636-3bf4d74e22d9"
    },
    {
      "cell_type": "code",
      "execution_count": 7,
      "metadata": {},
      "outputs": [
        {
          "output_type": "stream",
          "name": "stdout",
          "text": [
            "             JOBID PARTITION     NAME     USER ST       TIME  NODES NODELIST(REASON)\n",
            "              1637     batch Jupyter  mhar0048  R      43:01      1 mlerp-node05"
          ]
        }
      ],
      "source": [
        "# You may need to run this cell a few times while waiting for Dask to clean up\n",
        "!squeue\n"
      ],
      "id": "238ff313-9c84-4a0d-a773-1eeb2f0b7c84"
    },
    {
      "cell_type": "markdown",
      "metadata": {},
      "source": [
        "Dask has a UI that will let you see how the tasks are being computed.\n",
        "You won’t be able to connect to this with your web browser but VSCode\n",
        "and Jupyter have extensions for you to connect to it.\n",
        "\n",
        "Use the loopback address: http://127.0.0.1:8787 (Adjust the port to the\n",
        "one listed when you make the client if needed)\n",
        "\n",
        "Now let’s define a dask array and perform some computation. Dask arrays\n",
        "are parallelised across your workers nodes so they can be greater than\n",
        "the size of one worker’s memory. Dask evaluates lazily, retuning\n",
        "‘futures’ which record the tasks needed to be completed in the compute\n",
        "graph. They can be computed later for its value.\n",
        "\n",
        "Dask also has parallelised implementations of dataframes and collections\n",
        "of objects (called bags). These are written to be as similar as possible\n",
        "to familiar libraries like numpy, pandas and pyspark. You can read more\n",
        "about [arrays](https://docs.dask.org/en/stable/array.html),\n",
        "[dataframes](https://docs.dask.org/en/stable/dataframe.html) and\n",
        "[bags](https://docs.dask.org/en/stable/bag.html) with Dask’s\n",
        "documentation."
      ],
      "id": "a312930a-f823-4e77-bdda-d2f2c4d5a12c"
    },
    {
      "cell_type": "code",
      "execution_count": 4,
      "metadata": {},
      "outputs": [
        {
          "output_type": "display_data",
          "metadata": {},
          "data": {}
        }
      ],
      "source": [
        "import dask.array as da\n",
        "x = da.random.random((1000, 1000, 1000))\n",
        "x  # Note how the value of the array hasn't been computed yet\n"
      ],
      "id": "1a73975a-9016-44b1-ac2b-e4637f88d66a"
    },
    {
      "cell_type": "markdown",
      "metadata": {},
      "source": [
        "You can check squeue while this is running to see the jobs dynamically\n",
        "spinning up to perform the computation."
      ],
      "id": "e8369f07-6c37-484f-bec0-b0b52146c6f8"
    },
    {
      "cell_type": "code",
      "execution_count": 7,
      "metadata": {},
      "outputs": [
        {
          "output_type": "display_data",
          "metadata": {},
          "data": {
            "text/plain": [
              "array([0.9527929 , 0.93675059, 0.11717679, 0.47114357, 0.73693508,\n",
              "       0.01302143, 0.86360879, 0.12592881, 0.52676823, 0.99186392])"
            ]
          }
        }
      ],
      "source": [
        "x[0][0][:10].compute()\n"
      ],
      "id": "d39bf8f4-e8a0-49c5-9564-1b1c254e4963"
    },
    {
      "cell_type": "markdown",
      "metadata": {},
      "source": [
        "We can also accelerate dask arrays with GPUs using cupy. There is\n",
        "similar support for accelerating dask dataframes with CuDF."
      ],
      "id": "d2b45ea6-0145-41ca-ae4b-5a6f35e6fe53"
    },
    {
      "cell_type": "code",
      "execution_count": 8,
      "metadata": {},
      "outputs": [
        {
          "output_type": "display_data",
          "metadata": {},
          "data": {
            "text/plain": [
              "array([0.02380941, 0.62371184, 0.88393467, 0.8604588 , 0.16488854,\n",
              "       0.11214214, 0.86582312, 0.01384666, 0.79636323, 0.58940477])"
            ]
          }
        }
      ],
      "source": [
        "dask.config.set({\"array.backend\": \"cupy\"})\n",
        "y = da.random.random((1000, 1000, 1000))\n",
        "y.compute()\n",
        "y[0][0][:10].compute()"
      ],
      "id": "dd173e18-0644-4836-a963-65e84ac3be94"
    },
    {
      "cell_type": "markdown",
      "metadata": {},
      "source": [
        "Finally, we can shut down the SLURMCluster now that we’re done with it."
      ],
      "id": "7c3c86a8-296e-4cb5-9bdc-482e743fbb41"
    },
    {
      "cell_type": "code",
      "execution_count": 11,
      "metadata": {},
      "outputs": [],
      "source": [
        "# Shut down the cluster\n",
        "client.shutdown()\n"
      ],
      "id": "08360e9d-66e3-4b93-aecd-6be9b32d07d6"
    }
  ],
  "nbformat": 4,
  "nbformat_minor": 5,
  "metadata": {
    "kernelspec": {
      "name": "python3",
      "display_name": "dask",
      "language": "python"
    },
    "language_info": {
      "name": "python",
      "codemirror_mode": {
        "name": "ipython",
        "version": "3"
      },
      "file_extension": ".py",
      "mimetype": "text/x-python",
      "nbconvert_exporter": "python",
      "pygments_lexer": "ipython3",
      "version": "3.10.9"
    },
    "orig_nbformat": "4",
    "vscode": {
      "interpreter": {
        "hash": "db096b8404a4f1f3e1df0cc89f001e138448327417ef835d10f5a76aa612f160"
      }
    }
  }
}