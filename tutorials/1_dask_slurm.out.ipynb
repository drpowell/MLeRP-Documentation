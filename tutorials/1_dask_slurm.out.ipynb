{
  "cells": [
    {
      "cell_type": "markdown",
      "metadata": {},
      "source": [
        "# Dask SLURMClusters\n",
        "\n",
        "The MLeRP notebook environment uses Dask SLURMClusters to create a\n",
        "middle ground that has the interactivity of a notebook backed by the\n",
        "power of HPC. This notebook shows how you can use the lion service to\n",
        "use a CPU based notebook session for your basic analysis and code\n",
        "development. Then, when you’re ready to run tests you will use Dask to\n",
        "submit your python functions to the SLURM queue.\n",
        "\n",
        "This enables:\n",
        "\n",
        "-   Flexibility to experiment with your dataset interactively\n",
        "-   Ability to change compute requirements such as RAM, size of GPU,\n",
        "    number of processes and so on… without ever leaving the notebook\n",
        "    environment\n",
        "-   Elastic scaling of compute\n",
        "-   Efficient utilisation of the hardware\n",
        "-   Releasing of resources when not in use"
      ],
      "id": "b9fbce1f-e094-4cf5-8576-7f1403b43823"
    },
    {
      "cell_type": "code",
      "execution_count": 1,
      "metadata": {},
      "outputs": [],
      "source": [
        "from dask_jobqueue import SLURMCluster\n",
        "from distributed import Client, LocalCluster\n",
        "import dask\n",
        "\n",
        "# Point Dask to the SLURM to use as it's back end\n",
        "cluster = SLURMCluster(\n",
        "    memory=\"64g\", processes=1, cores=8\n",
        ")\n",
        "\n",
        "# Scale out to 4 nodes\n",
        "num_nodes = 4\n",
        "cluster.scale(num_nodes)\n",
        "client = Client(cluster)"
      ],
      "id": "dc724b45-aa96-4873-ae14-653b3e49c5a0"
    },
    {
      "cell_type": "markdown",
      "metadata": {},
      "source": [
        "Dask will now spin our jobs up in anticipation for work to the scale\n",
        "that you specify.\n",
        "\n",
        "You can check in on your jobs like you would with any other SLURM job\n",
        "with `squeue`."
      ],
      "id": "6da2c3bf-3171-4ac9-8f93-afbeceeaf7aa"
    },
    {
      "cell_type": "code",
      "execution_count": 2,
      "metadata": {},
      "outputs": [
        {
          "output_type": "stream",
          "name": "stdout",
          "text": [
            "             JOBID PARTITION     NAME     USER ST       TIME  NODES NODELIST(REASON)\n",
            "               383   BigCats dask-wor mhar0048 PD       0:00      1 (None)\n",
            "               382   BigCats dask-wor mhar0048 PD       0:00      1 (None)\n",
            "               381   BigCats dask-wor mhar0048 PD       0:00      1 (None)\n",
            "               380   BigCats dask-wor mhar0048 PD       0:00      1 (None)\n",
            "               373   BigCats DSKS Jup andrewpe  R    1:48:56      1 mlerp-monash-node00\n",
            "               375   BigCats DSKS Jup mhar0048  R    1:15:17      1 mlerp-monash-node00"
          ]
        }
      ],
      "source": [
        "!squeue"
      ],
      "id": "dc092f6d-c89c-46c9-ac91-f4fe329c1aa9"
    },
    {
      "cell_type": "markdown",
      "metadata": {},
      "source": [
        "Alternatively, we can use the adapt method, which will let us scale out\n",
        "as we need the compute… and scale back when we’re idle letting others\n",
        "use the cluster.\n",
        "\n",
        "We reccommend that you use the adapt method while you’re actively\n",
        "developing your code so that you don’t need to worry about cleaning up\n",
        "after yourself. The scale method can be used when you’re ready to run\n",
        "longer tests with higher utilisation."
      ],
      "id": "ee9ce437-c3d8-4421-9330-c9b8e6ad4b40"
    },
    {
      "cell_type": "code",
      "execution_count": 3,
      "metadata": {},
      "outputs": [
        {
          "output_type": "display_data",
          "metadata": {},
          "data": {
            "text/plain": [
              "<distributed.deploy.adaptive.Adaptive at 0x7fd919ab7670>"
            ]
          }
        }
      ],
      "source": [
        "cluster.adapt(minimum=0, maximum=num_nodes)"
      ],
      "id": "b26d0ecc-8ef7-4040-aae3-527ab55d3598"
    },
    {
      "cell_type": "code",
      "execution_count": 4,
      "metadata": {},
      "outputs": [
        {
          "output_type": "stream",
          "name": "stdout",
          "text": [
            "             JOBID PARTITION     NAME     USER ST       TIME  NODES NODELIST(REASON)\n",
            "               373   BigCats DSKS Jup andrewpe  R    1:48:56      1 mlerp-monash-node00\n",
            "               380   BigCats dask-wor mhar0048  R       0:00      1 mlerp-monash-node00\n",
            "               381   BigCats dask-wor mhar0048  R       0:00      1 mlerp-monash-node00\n",
            "               382   BigCats dask-wor mhar0048  R       0:00      1 mlerp-monash-node00\n",
            "               383   BigCats dask-wor mhar0048  R       0:00      1 mlerp-monash-node00\n",
            "               375   BigCats DSKS Jup mhar0048  R    1:15:17      1 mlerp-monash-node00"
          ]
        }
      ],
      "source": [
        "# You may need to run this cell a few times while waiting for Dask to clean up\n",
        "!squeue\n"
      ],
      "id": "fa182ed0-0256-4e53-9f36-f2d18891dafd"
    },
    {
      "cell_type": "markdown",
      "metadata": {},
      "source": [
        "Dask has a UI that will let you see how the tasks are being computed.\n",
        "You won’t be able to connect to this with your web browser but VSCode\n",
        "and Jupyter have extensions for you to connect to it.\n",
        "\n",
        "Use the loopback address: http://127.0.0.1:8787 (Adjust the port to the\n",
        "one listed when you make the client if needed)\n",
        "\n",
        "Now let’s define a dask array and perform some computation. Dask arrays\n",
        "are parallelised across your workers nodes so they can be greater than\n",
        "the size of one worker’s memory. Dask evaluates lazily, retuning\n",
        "‘futures’ which record the tasks needed to be completed in the compute\n",
        "graph. They can be computed later for its value.\n",
        "\n",
        "Dask also has parallelised implementations of dataframes and collections\n",
        "of objects (called bags). These are written to be as similar as possible\n",
        "to familiar libraries like numpy, pandas and pyspark. You can read more\n",
        "about [arrays](https://docs.dask.org/en/stable/array.html),\n",
        "[dataframes](https://docs.dask.org/en/stable/dataframe.html) and\n",
        "[bags](https://docs.dask.org/en/stable/bag.html) with Dask’s\n",
        "documentation."
      ],
      "id": "8b8cffe7-e930-45ec-8e45-b4c9cd428096"
    },
    {
      "cell_type": "code",
      "execution_count": 5,
      "metadata": {},
      "outputs": [
        {
          "output_type": "display_data",
          "metadata": {},
          "data": {}
        }
      ],
      "source": [
        "import dask.array as da\n",
        "x = da.random.random((1000, 1000, 1000))\n",
        "x  # Note how the value of the array hasn't been computed yet\n"
      ],
      "id": "99a19c2c-3dec-4e03-ab4e-2fa0c13e061a"
    },
    {
      "cell_type": "markdown",
      "metadata": {},
      "source": [
        "You can check squeue while this is running to see the jobs dynamically\n",
        "spinning up to perform the computation."
      ],
      "id": "b301e59c-e12a-43ff-8e12-9719aafc239d"
    },
    {
      "cell_type": "code",
      "execution_count": 8,
      "metadata": {},
      "outputs": [
        {
          "output_type": "display_data",
          "metadata": {},
          "data": {
            "text/plain": [
              "array([0.15885921, 0.35993257, 0.08629273, 0.19472071, 0.76723019,\n",
              "       0.65067334, 0.33802127, 0.61253251, 0.37531874, 0.06273974])"
            ]
          }
        }
      ],
      "source": [
        "x[0][0][:10].compute()\n"
      ],
      "id": "38537894-aa0c-4265-8d04-6def711d5637"
    },
    {
      "cell_type": "markdown",
      "metadata": {},
      "source": [
        "Finally, we can shut down the SLURMCluster now that we’re done with it."
      ],
      "id": "388a5ecc-eefe-4578-9964-fdba9fb56ed8"
    },
    {
      "cell_type": "code",
      "execution_count": 9,
      "metadata": {},
      "outputs": [
        {
          "output_type": "stream",
          "name": "stderr",
          "text": [
            "2023-08-21 02:44:02,335 - distributed.deploy.adaptive_core - INFO - Adaptive stop"
          ]
        }
      ],
      "source": [
        "# Shut down the cluster\n",
        "client.shutdown()\n"
      ],
      "id": "b460af6b-a28a-4b56-ada6-aea6b9dfa61b"
    }
  ],
  "nbformat": 4,
  "nbformat_minor": 5,
  "metadata": {
    "kernelspec": {
      "name": "python3",
      "display_name": "Python 3 (ipykernel)",
      "language": "python"
    },
    "language_info": {
      "name": "python",
      "codemirror_mode": {
        "name": "ipython",
        "version": "3"
      },
      "file_extension": ".py",
      "mimetype": "text/x-python",
      "nbconvert_exporter": "python",
      "pygments_lexer": "ipython3",
      "version": "3.10.8"
    },
    "vscode": {
      "interpreter": {
        "hash": "db096b8404a4f1f3e1df0cc89f001e138448327417ef835d10f5a76aa612f160"
      }
    }
  }
}