{
  "cells": [
    {
      "cell_type": "markdown",
      "metadata": {},
      "source": [
        "# Dask SLURMClusters\n",
        "\n",
        "The MLeRP notebook environment uses Dask SLURMClusters to create a\n",
        "middle ground that has the interactivity of a notebook backed by the\n",
        "power of HPC. This notebook shows how you can use the lion service to\n",
        "use a CPU based notebook session for your basic analysis and code\n",
        "development. Then, when you’re ready to run tests you will use Dask to\n",
        "submit your python functions to the SLURM queue.\n",
        "\n",
        "This enables:\n",
        "\n",
        "-   Flexibility to experiment with your dataset interactively\n",
        "-   Ability to change compute requirements such as RAM, size of GPU,\n",
        "    number of processes and so on… without ever leaving the notebook\n",
        "    environment\n",
        "-   Elastic scaling of compute\n",
        "-   Efficient utilisation of the hardware\n",
        "-   Releasing of resources when not in use"
      ],
      "id": "61899361-d81e-4391-8e8d-153d90ac5fe4"
    },
    {
      "cell_type": "code",
      "execution_count": 1,
      "metadata": {},
      "outputs": [],
      "source": [
        "from dask_jobqueue import SLURMCluster\n",
        "from distributed import Client, LocalCluster\n",
        "import dask\n",
        "\n",
        "# Point Dask to the SLURM to use as it's back end\n",
        "cluster = SLURMCluster(\n",
        "    memory=\"64g\", processes=1, cores=8\n",
        ")\n",
        "\n",
        "# Scale out to 4 nodes\n",
        "num_nodes = 4\n",
        "cluster.scale(num_nodes)\n",
        "client = Client(cluster)"
      ],
      "id": "a5df8131-e660-48be-899f-d39344dde106"
    },
    {
      "cell_type": "markdown",
      "metadata": {},
      "source": [
        "Dask will now spin our jobs up in anticipation for work to the scale\n",
        "that you specify.\n",
        "\n",
        "You can check in on your jobs like you would with any other SLURM job\n",
        "with `squeue`."
      ],
      "id": "a8ec977d-fc3a-4e61-b181-acc73b9062df"
    },
    {
      "cell_type": "code",
      "execution_count": 2,
      "metadata": {},
      "outputs": [
        {
          "output_type": "stream",
          "name": "stdout",
          "text": [
            "             JOBID PARTITION     NAME     USER ST       TIME  NODES NODELIST(REASON)\n",
            "               383   BigCats dask-wor mhar0048 PD       0:00      1 (None)\n",
            "               382   BigCats dask-wor mhar0048 PD       0:00      1 (None)\n",
            "               381   BigCats dask-wor mhar0048 PD       0:00      1 (None)\n",
            "               380   BigCats dask-wor mhar0048 PD       0:00      1 (None)\n",
            "               373   BigCats DSKS Jup andrewpe  R    1:48:56      1 mlerp-monash-node00\n",
            "               375   BigCats DSKS Jup mhar0048  R    1:15:17      1 mlerp-monash-node00"
          ]
        }
      ],
      "source": [
        "!squeue"
      ],
      "id": "5ac902b1-69c8-4fbd-9f08-b3c627236d05"
    },
    {
      "cell_type": "markdown",
      "metadata": {},
      "source": [
        "Alternatively, we can use the adapt method, which will let us scale out\n",
        "as we need the compute… and scale back when we’re idle letting others\n",
        "use the cluster.\n",
        "\n",
        "We reccommend that you use the adapt method while you’re actively\n",
        "developing your code so that you don’t need to worry about cleaning up\n",
        "after yourself. The scale method can be used when you’re ready to run\n",
        "longer tests with higher utilisation."
      ],
      "id": "c0abf7b9-da4f-49fd-8d84-3a3e2b26a6b4"
    },
    {
      "cell_type": "code",
      "execution_count": 3,
      "metadata": {},
      "outputs": [
        {
          "output_type": "display_data",
          "metadata": {},
          "data": {
            "text/plain": [
              "<distributed.deploy.adaptive.Adaptive at 0x7fd919ab7670>"
            ]
          }
        }
      ],
      "source": [
        "cluster.adapt(minimum=0, maximum=num_nodes)"
      ],
      "id": "97110d6f-a6ee-4ded-9238-3afe58cf1ea0"
    },
    {
      "cell_type": "code",
      "execution_count": 4,
      "metadata": {},
      "outputs": [
        {
          "output_type": "stream",
          "name": "stdout",
          "text": [
            "             JOBID PARTITION     NAME     USER ST       TIME  NODES NODELIST(REASON)\n",
            "               373   BigCats DSKS Jup andrewpe  R    1:48:56      1 mlerp-monash-node00\n",
            "               380   BigCats dask-wor mhar0048  R       0:00      1 mlerp-monash-node00\n",
            "               381   BigCats dask-wor mhar0048  R       0:00      1 mlerp-monash-node00\n",
            "               382   BigCats dask-wor mhar0048  R       0:00      1 mlerp-monash-node00\n",
            "               383   BigCats dask-wor mhar0048  R       0:00      1 mlerp-monash-node00\n",
            "               375   BigCats DSKS Jup mhar0048  R    1:15:17      1 mlerp-monash-node00"
          ]
        }
      ],
      "source": [
        "# You may need to run this cell a few times while waiting for Dask to clean up\n",
        "!squeue\n"
      ],
      "id": "f21f5a11-2bd7-47e5-a275-8cfcafedaf57"
    },
    {
      "cell_type": "markdown",
      "metadata": {},
      "source": [
        "Dask has a UI that will let you see how the tasks are being computed.\n",
        "You won’t be able to connect to this with your web browser but VSCode\n",
        "and Jupyter have extensions for you to connect to it.\n",
        "\n",
        "Use the loopback address: http://127.0.0.1:8787 (Adjust the port to the\n",
        "one listed when you make the client if needed)\n",
        "\n",
        "Now let’s define a dask array and perform some computation. Dask arrays\n",
        "are parallelised across your workers nodes so they can be greater than\n",
        "the size of one worker’s memory. Dask evaluates lazily, retuning\n",
        "‘futures’ which record the tasks needed to be completed in the compute\n",
        "graph. They can be computed later for its value.\n",
        "\n",
        "Dask also has parallelised implementations of dataframes and collections\n",
        "of objects (called bags). These are written to be as similar as possible\n",
        "to familiar libraries like numpy, pandas and pyspark. You can read more\n",
        "about [arrays](https://docs.dask.org/en/stable/array.html),\n",
        "[dataframes](https://docs.dask.org/en/stable/dataframe.html) and\n",
        "[bags](https://docs.dask.org/en/stable/bag.html) with Dask’s\n",
        "documentation."
      ],
      "id": "f79098fe-f1de-4021-87ff-53605c1a11ba"
    },
    {
      "cell_type": "code",
      "execution_count": 5,
      "metadata": {},
      "outputs": [
        {
          "output_type": "display_data",
          "metadata": {},
          "data": {}
        }
      ],
      "source": [
        "import dask.array as da\n",
        "x = da.random.random((1000, 1000, 1000))\n",
        "x  # Note how the value of the array hasn't been computed yet\n"
      ],
      "id": "ef3b3a3d-23a5-411c-b8c2-fd0c8287c36d"
    },
    {
      "cell_type": "markdown",
      "metadata": {},
      "source": [
        "You can check squeue while this is running to see the jobs dynamically\n",
        "spinning up to perform the computation."
      ],
      "id": "5d99b2dd-2afc-4818-886c-bb8f61fd995a"
    },
    {
      "cell_type": "code",
      "execution_count": 8,
      "metadata": {},
      "outputs": [
        {
          "output_type": "display_data",
          "metadata": {},
          "data": {
            "text/plain": [
              "array([0.15885921, 0.35993257, 0.08629273, 0.19472071, 0.76723019,\n",
              "       0.65067334, 0.33802127, 0.61253251, 0.37531874, 0.06273974])"
            ]
          }
        }
      ],
      "source": [
        "x[0][0][:10].compute()\n"
      ],
      "id": "5d66e2f5-46ce-4b79-b35f-c07898e8049e"
    },
    {
      "cell_type": "markdown",
      "metadata": {},
      "source": [
        "Finally, we can shut down the SLURMCluster now that we’re done with it."
      ],
      "id": "f01c221d-0545-4db6-8a30-7ff9e791b756"
    },
    {
      "cell_type": "code",
      "execution_count": 9,
      "metadata": {},
      "outputs": [
        {
          "output_type": "stream",
          "name": "stderr",
          "text": [
            "2023-08-21 02:44:02,335 - distributed.deploy.adaptive_core - INFO - Adaptive stop"
          ]
        }
      ],
      "source": [
        "# Shut down the cluster\n",
        "client.shutdown()\n"
      ],
      "id": "1df90206-6c6d-4d32-8a93-e103e1f22685"
    }
  ],
  "nbformat": 4,
  "nbformat_minor": 5,
  "metadata": {
    "kernelspec": {
      "name": "python3",
      "display_name": "Python 3 (ipykernel)",
      "language": "python"
    },
    "language_info": {
      "name": "python",
      "codemirror_mode": {
        "name": "ipython",
        "version": "3"
      },
      "file_extension": ".py",
      "mimetype": "text/x-python",
      "nbconvert_exporter": "python",
      "pygments_lexer": "ipython3",
      "version": "3.10.8"
    },
    "vscode": {
      "interpreter": {
        "hash": "db096b8404a4f1f3e1df0cc89f001e138448327417ef835d10f5a76aa612f160"
      }
    }
  }
}