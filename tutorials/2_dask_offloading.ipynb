{
 "cells": [
  {
   "cell_type": "raw",
   "metadata": {},
   "source": [
    "---\n",
    "title: Dask Offloading\n",
    "format:\n",
    "  html:\n",
    "    code-fold: false\n",
    "  ipynb: default\n",
    "execute:\n",
    "    freeze: true\n",
    "format-links: [ipynb]\n",
    "---"
   ]
  },
  {
   "cell_type": "markdown",
   "metadata": {},
   "source": [
    "### Testing with a `LocalCluster`"
   ]
  },
  {
   "cell_type": "markdown",
   "metadata": {},
   "source": [
    "Once you've written your function and are ready to move things over to . Working with Dask workers introduces another layer of complexity where things can go wrong, which make Dask LocalClusters the easiest way to prepare your code for offloading. This will mean that code will execute in the notebook session, just like running your function straight, allowing you to view print statements and debug errors normally rather than dealing with remote code execusion before we're ready. Once you're satisfied with your code you can switch over to a SLURMCluster to accelerate with GPU."
   ]
  },
  {
   "cell_type": "code",
   "execution_count": 1,
   "metadata": {},
   "outputs": [],
   "source": [
    "from distributed import Client, LocalCluster\n",
    "\n",
    "cluster = LocalCluster()\n",
    "client = Client(cluster)"
   ]
  },
  {
   "cell_type": "markdown",
   "metadata": {},
   "source": [
    "We can submit our function to the cluster with the `client.submit` method. This will return a future which can be unpacked with its result using `future.result()`. We can see the outputs of print statements while we're using a `LocalCluster`. Print statements will not be visible when executing remotely with `SLURMCluster`. Similarly, the full stack trace is still visible when an error or assertion is raised within the function."
   ]
  },
  {
   "cell_type": "code",
   "execution_count": 2,
   "metadata": {},
   "outputs": [],
   "source": [
    "def client_test(input1, input2, error=False, test=False):\n",
    "    # Force an error\n",
    "    if error:\n",
    "        assert 0 == 1\n",
    "    \n",
    "    # Stop after one batch when testing        \n",
    "    if test: \n",
    "        print(\"When running in a local cluster you can see print statements!\")\n",
    "\n",
    "    return input1, input2"
   ]
  },
  {
   "cell_type": "code",
   "execution_count": 3,
   "metadata": {},
   "outputs": [
    {
     "name": "stdout",
     "output_type": "stream",
     "text": [
      "When running in a local cluster you can see print statements!\n"
     ]
    },
    {
     "data": {
      "text/plain": [
       "('input1', 'input2')"
      ]
     },
     "execution_count": 3,
     "metadata": {},
     "output_type": "execute_result"
    }
   ],
   "source": [
    "future = client.submit(client_test, \"input1\", \"input2\", test=True)\n",
    "future.result()"
   ]
  },
  {
   "cell_type": "code",
   "execution_count": 4,
   "metadata": {},
   "outputs": [
    {
     "name": "stderr",
     "output_type": "stream",
     "text": [
      "2023-10-26 05:27:51,337 - distributed.worker - WARNING - Compute Failed\n",
      "Key:       client_test-2a20d2c3dd0e6af52b45b5f24d763dfb\n",
      "Function:  client_test\n",
      "args:      ('input1', 'input2')\n",
      "kwargs:    {'error': True}\n",
      "Exception: 'AssertionError()'\n",
      "\n"
     ]
    },
    {
     "ename": "AssertionError",
     "evalue": "",
     "output_type": "error",
     "traceback": [
      "\u001b[0;31m---------------------------------------------------------------------------\u001b[0m",
      "\u001b[0;31mAssertionError\u001b[0m                            Traceback (most recent call last)",
      "\u001b[1;32m/home/mhar0048/MLeRP-Documentation/tutorials/2_dask_offloading.ipynb Cell 8\u001b[0m line \u001b[0;36m2\n\u001b[1;32m      <a href='vscode-notebook-cell://ssh-remote%2B7b22686f73744e616d65223a224d4c6552505f6d6f6e6173685f6c6f67696e227d/home/mhar0048/MLeRP-Documentation/tutorials/2_dask_offloading.ipynb#X36sdnNjb2RlLXJlbW90ZQ%3D%3D?line=0'>1</a>\u001b[0m future \u001b[39m=\u001b[39m client\u001b[39m.\u001b[39msubmit(client_test, \u001b[39m\"\u001b[39m\u001b[39minput1\u001b[39m\u001b[39m\"\u001b[39m, \u001b[39m\"\u001b[39m\u001b[39minput2\u001b[39m\u001b[39m\"\u001b[39m, error\u001b[39m=\u001b[39m\u001b[39mTrue\u001b[39;00m)\n\u001b[0;32m----> <a href='vscode-notebook-cell://ssh-remote%2B7b22686f73744e616d65223a224d4c6552505f6d6f6e6173685f6c6f67696e227d/home/mhar0048/MLeRP-Documentation/tutorials/2_dask_offloading.ipynb#X36sdnNjb2RlLXJlbW90ZQ%3D%3D?line=1'>2</a>\u001b[0m future\u001b[39m.\u001b[39;49mresult()\n",
      "File \u001b[0;32m/apps/mambaforge/envs/dsks_2023.10/lib/python3.10/site-packages/distributed/client.py:321\u001b[0m, in \u001b[0;36mFuture.result\u001b[0;34m(self, timeout)\u001b[0m\n\u001b[1;32m    319\u001b[0m \u001b[39mself\u001b[39m\u001b[39m.\u001b[39m_verify_initialized()\n\u001b[1;32m    320\u001b[0m \u001b[39mwith\u001b[39;00m shorten_traceback():\n\u001b[0;32m--> 321\u001b[0m     \u001b[39mreturn\u001b[39;00m \u001b[39mself\u001b[39;49m\u001b[39m.\u001b[39;49mclient\u001b[39m.\u001b[39;49msync(\u001b[39mself\u001b[39;49m\u001b[39m.\u001b[39;49m_result, callback_timeout\u001b[39m=\u001b[39;49mtimeout)\n",
      "\u001b[1;32m/home/mhar0048/MLeRP-Documentation/tutorials/2_dask_offloading.ipynb Cell 8\u001b[0m line \u001b[0;36m4\n\u001b[1;32m      <a href='vscode-notebook-cell://ssh-remote%2B7b22686f73744e616d65223a224d4c6552505f6d6f6e6173685f6c6f67696e227d/home/mhar0048/MLeRP-Documentation/tutorials/2_dask_offloading.ipynb#X36sdnNjb2RlLXJlbW90ZQ%3D%3D?line=0'>1</a>\u001b[0m \u001b[39mdef\u001b[39;00m \u001b[39mclient_test\u001b[39m(input1, input2, error\u001b[39m=\u001b[39m\u001b[39mFalse\u001b[39;00m, test\u001b[39m=\u001b[39m\u001b[39mFalse\u001b[39;00m):\n\u001b[1;32m      <a href='vscode-notebook-cell://ssh-remote%2B7b22686f73744e616d65223a224d4c6552505f6d6f6e6173685f6c6f67696e227d/home/mhar0048/MLeRP-Documentation/tutorials/2_dask_offloading.ipynb#X36sdnNjb2RlLXJlbW90ZQ%3D%3D?line=1'>2</a>\u001b[0m     \u001b[39m# Force an error\u001b[39;00m\n\u001b[1;32m      <a href='vscode-notebook-cell://ssh-remote%2B7b22686f73744e616d65223a224d4c6552505f6d6f6e6173685f6c6f67696e227d/home/mhar0048/MLeRP-Documentation/tutorials/2_dask_offloading.ipynb#X36sdnNjb2RlLXJlbW90ZQ%3D%3D?line=2'>3</a>\u001b[0m     \u001b[39mif\u001b[39;00m error:\n\u001b[0;32m----> <a href='vscode-notebook-cell://ssh-remote%2B7b22686f73744e616d65223a224d4c6552505f6d6f6e6173685f6c6f67696e227d/home/mhar0048/MLeRP-Documentation/tutorials/2_dask_offloading.ipynb#X36sdnNjb2RlLXJlbW90ZQ%3D%3D?line=3'>4</a>\u001b[0m         \u001b[39massert\u001b[39;00m \u001b[39m0\u001b[39m \u001b[39m==\u001b[39m \u001b[39m1\u001b[39m\n\u001b[1;32m      <a href='vscode-notebook-cell://ssh-remote%2B7b22686f73744e616d65223a224d4c6552505f6d6f6e6173685f6c6f67696e227d/home/mhar0048/MLeRP-Documentation/tutorials/2_dask_offloading.ipynb#X36sdnNjb2RlLXJlbW90ZQ%3D%3D?line=5'>6</a>\u001b[0m     \u001b[39m# Stop after one batch when testing        \u001b[39;00m\n\u001b[1;32m      <a href='vscode-notebook-cell://ssh-remote%2B7b22686f73744e616d65223a224d4c6552505f6d6f6e6173685f6c6f67696e227d/home/mhar0048/MLeRP-Documentation/tutorials/2_dask_offloading.ipynb#X36sdnNjb2RlLXJlbW90ZQ%3D%3D?line=6'>7</a>\u001b[0m     \u001b[39mif\u001b[39;00m test: \n",
      "\u001b[0;31mAssertionError\u001b[0m: "
     ]
    }
   ],
   "source": [
    "future = client.submit(client_test, \"input1\", \"input2\", error=True)\n",
    "future.result()"
   ]
  },
  {
   "cell_type": "code",
   "execution_count": 5,
   "metadata": {},
   "outputs": [],
   "source": [
    "client.shutdown()"
   ]
  },
  {
   "cell_type": "markdown",
   "metadata": {},
   "source": [
    "### Training with a `SLURMCluster`"
   ]
  },
  {
   "cell_type": "markdown",
   "metadata": {},
   "source": [
    "We can pass in extra SLURM requirements in job_extra_directives to request a GPU for our jobs. To read more about configuring the `SLURMCluster` to interact with the SLURM queue, go to Dask's [jobqueue documentation](https://jobqueue.dask.org/en/latest/generated/dask_jobqueue.SLURMCluster.html?highlight=slurmcluster).\n"
   ]
  },
  {
   "cell_type": "code",
   "execution_count": 6,
   "metadata": {},
   "outputs": [],
   "source": [
    "from dask_jobqueue import SLURMCluster\n",
    "from distributed import Client\n",
    "cluster = SLURMCluster(\n",
    "    memory=\"128g\", processes=1, cores=16, job_extra_directives=[\"--gres=gpu:1\"], nanny=False\n",
    ")\n",
    "\n",
    "cluster.scale(1)\n",
    "client = Client(cluster)"
   ]
  },
  {
   "cell_type": "markdown",
   "metadata": {},
   "source": [
    "Since this code is executing remotely we won't see our print statements"
   ]
  },
  {
   "cell_type": "code",
   "execution_count": 7,
   "metadata": {},
   "outputs": [
    {
     "data": {
      "text/plain": [
       "('input1', 'input2')"
      ]
     },
     "execution_count": 7,
     "metadata": {},
     "output_type": "execute_result"
    }
   ],
   "source": [
    "client.submit(client_test, \"input1\", \"input2\", test=True).result()"
   ]
  },
  {
   "cell_type": "markdown",
   "metadata": {},
   "source": [
    "Dask will raise any errors that the process triggers locally, even when executing remotely - but you may not get the full stack trace"
   ]
  },
  {
   "cell_type": "code",
   "execution_count": 8,
   "metadata": {},
   "outputs": [
    {
     "ename": "AssertionError",
     "evalue": "",
     "output_type": "error",
     "traceback": [
      "\u001b[0;31m---------------------------------------------------------------------------\u001b[0m",
      "\u001b[0;31mAssertionError\u001b[0m                            Traceback (most recent call last)",
      "\u001b[1;32m/home/mhar0048/MLeRP-Documentation/tutorials/2_dask_offloading.ipynb Cell 16\u001b[0m line \u001b[0;36m1\n\u001b[0;32m----> <a href='vscode-notebook-cell://ssh-remote%2B7b22686f73744e616d65223a224d4c6552505f6d6f6e6173685f6c6f67696e227d/home/mhar0048/MLeRP-Documentation/tutorials/2_dask_offloading.ipynb#X24sdnNjb2RlLXJlbW90ZQ%3D%3D?line=0'>1</a>\u001b[0m client\u001b[39m.\u001b[39;49msubmit(client_test, \u001b[39m\"\u001b[39;49m\u001b[39minput1\u001b[39;49m\u001b[39m\"\u001b[39;49m, \u001b[39m\"\u001b[39;49m\u001b[39minput2\u001b[39;49m\u001b[39m\"\u001b[39;49m, error\u001b[39m=\u001b[39;49m\u001b[39mTrue\u001b[39;49;00m)\u001b[39m.\u001b[39;49mresult()\n",
      "File \u001b[0;32m/apps/mambaforge/envs/dsks_2023.10/lib/python3.10/site-packages/distributed/client.py:321\u001b[0m, in \u001b[0;36mFuture.result\u001b[0;34m(self, timeout)\u001b[0m\n\u001b[1;32m    319\u001b[0m \u001b[39mself\u001b[39m\u001b[39m.\u001b[39m_verify_initialized()\n\u001b[1;32m    320\u001b[0m \u001b[39mwith\u001b[39;00m shorten_traceback():\n\u001b[0;32m--> 321\u001b[0m     \u001b[39mreturn\u001b[39;00m \u001b[39mself\u001b[39;49m\u001b[39m.\u001b[39;49mclient\u001b[39m.\u001b[39;49msync(\u001b[39mself\u001b[39;49m\u001b[39m.\u001b[39;49m_result, callback_timeout\u001b[39m=\u001b[39;49mtimeout)\n",
      "\u001b[1;32m/home/mhar0048/MLeRP-Documentation/tutorials/2_dask_offloading.ipynb Cell 16\u001b[0m line \u001b[0;36m4\n\u001b[1;32m      <a href='vscode-notebook-cell://ssh-remote%2B7b22686f73744e616d65223a224d4c6552505f6d6f6e6173685f6c6f67696e227d/home/mhar0048/MLeRP-Documentation/tutorials/2_dask_offloading.ipynb#X24sdnNjb2RlLXJlbW90ZQ%3D%3D?line=0'>1</a>\u001b[0m \u001b[39mdef\u001b[39;00m \u001b[39mclient_test\u001b[39m(input1, input2, error\u001b[39m=\u001b[39m\u001b[39mFalse\u001b[39;00m, test\u001b[39m=\u001b[39m\u001b[39mFalse\u001b[39;00m):\n\u001b[1;32m      <a href='vscode-notebook-cell://ssh-remote%2B7b22686f73744e616d65223a224d4c6552505f6d6f6e6173685f6c6f67696e227d/home/mhar0048/MLeRP-Documentation/tutorials/2_dask_offloading.ipynb#X24sdnNjb2RlLXJlbW90ZQ%3D%3D?line=1'>2</a>\u001b[0m     \u001b[39m# Force an error\u001b[39;00m\n\u001b[1;32m      <a href='vscode-notebook-cell://ssh-remote%2B7b22686f73744e616d65223a224d4c6552505f6d6f6e6173685f6c6f67696e227d/home/mhar0048/MLeRP-Documentation/tutorials/2_dask_offloading.ipynb#X24sdnNjb2RlLXJlbW90ZQ%3D%3D?line=2'>3</a>\u001b[0m     \u001b[39mif\u001b[39;00m error:\n\u001b[0;32m----> <a href='vscode-notebook-cell://ssh-remote%2B7b22686f73744e616d65223a224d4c6552505f6d6f6e6173685f6c6f67696e227d/home/mhar0048/MLeRP-Documentation/tutorials/2_dask_offloading.ipynb#X24sdnNjb2RlLXJlbW90ZQ%3D%3D?line=3'>4</a>\u001b[0m         \u001b[39massert\u001b[39;00m \u001b[39m0\u001b[39m \u001b[39m==\u001b[39m \u001b[39m1\u001b[39m\n\u001b[1;32m      <a href='vscode-notebook-cell://ssh-remote%2B7b22686f73744e616d65223a224d4c6552505f6d6f6e6173685f6c6f67696e227d/home/mhar0048/MLeRP-Documentation/tutorials/2_dask_offloading.ipynb#X24sdnNjb2RlLXJlbW90ZQ%3D%3D?line=5'>6</a>\u001b[0m     \u001b[39m# Stop after one batch when testing        \u001b[39;00m\n\u001b[1;32m      <a href='vscode-notebook-cell://ssh-remote%2B7b22686f73744e616d65223a224d4c6552505f6d6f6e6173685f6c6f67696e227d/home/mhar0048/MLeRP-Documentation/tutorials/2_dask_offloading.ipynb#X24sdnNjb2RlLXJlbW90ZQ%3D%3D?line=6'>7</a>\u001b[0m     \u001b[39mif\u001b[39;00m test: \n",
      "\u001b[0;31mAssertionError\u001b[0m: "
     ]
    }
   ],
   "source": [
    "client.submit(client_test, \"input1\", \"input2\", error=True).result()"
   ]
  },
  {
   "cell_type": "markdown",
   "metadata": {},
   "source": [
    "If you're working with any objects that are particularly memory intensive, you can consider using the `client.scatter` method to scatter large objects out to our workers ahead of time for more efficient execution."
   ]
  },
  {
   "cell_type": "code",
   "execution_count": 9,
   "metadata": {},
   "outputs": [
    {
     "data": {
      "text/plain": [
       "(\"Let's pretend that this string is actually really big\", 'input2')"
      ]
     },
     "execution_count": 9,
     "metadata": {},
     "output_type": "execute_result"
    }
   ],
   "source": [
    "large_object = \"Let's pretend that this string is actually really big\"\n",
    "input1_future = client.scatter(large_object)\n",
    "client.submit(client_test, input1_future, \"input2\").result()"
   ]
  },
  {
   "cell_type": "code",
   "execution_count": 10,
   "metadata": {},
   "outputs": [],
   "source": [
    "client.shutdown()"
   ]
  },
  {
   "cell_type": "markdown",
   "metadata": {},
   "source": [
    "In the next tutorial we'll see how we can apply this kind of offloading to training a model in PyTorch."
   ]
  }
 ],
 "metadata": {
  "kernelspec": {
   "display_name": "Python 3 (ipykernel)",
   "language": "python",
   "name": "python3"
  },
  "language_info": {
   "codemirror_mode": {
    "name": "ipython",
    "version": 3
   },
   "file_extension": ".py",
   "mimetype": "text/x-python",
   "name": "python",
   "nbconvert_exporter": "python",
   "pygments_lexer": "ipython3",
   "version": "3.10.8"
  },
  "vscode": {
   "interpreter": {
    "hash": "db096b8404a4f1f3e1df0cc89f001e138448327417ef835d10f5a76aa612f160"
   }
  }
 },
 "nbformat": 4,
 "nbformat_minor": 4
}
