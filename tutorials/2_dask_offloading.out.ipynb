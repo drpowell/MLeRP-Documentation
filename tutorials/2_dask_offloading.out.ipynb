{
  "cells": [
    {
      "cell_type": "markdown",
      "metadata": {},
      "source": [
        "# Dask Offloading\n",
        "\n",
        "### Testing with a `LocalCluster`\n",
        "\n",
        "Once you’ve written your function and are ready to move things over to .\n",
        "Working with Dask workers introduces another layer of complexity where\n",
        "things can go wrong, which make Dask LocalClusters the easiest way to\n",
        "prepare your code for offloading. This will mean that code will execute\n",
        "in the notebook session, just like running your function straight,\n",
        "allowing you to view print statements and debug errors normally rather\n",
        "than dealing with remote code execusion before we’re ready. Once you’re\n",
        "satisfied with your code you can switch over to a SLURMCluster to\n",
        "accelerate with GPU."
      ],
      "id": "bb6b95ac-27dd-4465-a500-05d5847fd191"
    },
    {
      "cell_type": "code",
      "execution_count": 1,
      "metadata": {},
      "outputs": [],
      "source": [
        "from distributed import Client, LocalCluster\n",
        "\n",
        "cluster = LocalCluster()\n",
        "client = Client(cluster)"
      ],
      "id": "64c8a177-1bea-4e93-8bc2-024870cc2acd"
    },
    {
      "cell_type": "markdown",
      "metadata": {},
      "source": [
        "We can submit our function to the cluster with the `client.submit`\n",
        "method. This will return a future which can be unpacked with its result\n",
        "using `future.result()`. We can see the outputs of print statements\n",
        "while we’re using a `LocalCluster`. Print statements will not be visible\n",
        "when executing remotely with `SLURMCluster`. Similarly, the full stack\n",
        "trace is still visible when an error or assertion is raised within the\n",
        "function."
      ],
      "id": "1c39285a-2fe0-4c75-bc2f-9afb931e0ee5"
    },
    {
      "cell_type": "code",
      "execution_count": 2,
      "metadata": {},
      "outputs": [],
      "source": [
        "def client_test(input1, input2, error=False, test=False):\n",
        "    # Force an error\n",
        "    if error:\n",
        "        assert 0 == 1\n",
        "    \n",
        "    # Stop after one batch when testing        \n",
        "    if test: \n",
        "        print(\"When running in a local cluster you can see print statements!\")\n",
        "\n",
        "    return input1, input2"
      ],
      "id": "37364fca-5370-42e2-8f1b-008cfe02bb23"
    },
    {
      "cell_type": "code",
      "execution_count": 3,
      "metadata": {},
      "outputs": [
        {
          "output_type": "stream",
          "name": "stdout",
          "text": [
            "When running in a local cluster you can see print statements!"
          ]
        },
        {
          "output_type": "display_data",
          "metadata": {},
          "data": {
            "text/plain": [
              "('input1', 'input2')"
            ]
          }
        }
      ],
      "source": [
        "future = client.submit(client_test, \"input1\", \"input2\", test=True)\n",
        "future.result()"
      ],
      "id": "4794cbd4-e0b6-4474-8ad4-63cb2d5c661e"
    },
    {
      "cell_type": "code",
      "execution_count": 4,
      "metadata": {},
      "outputs": [
        {
          "output_type": "stream",
          "name": "stderr",
          "text": [
            "2023-10-26 05:27:51,337 - distributed.worker - WARNING - Compute Failed\n",
            "Key:       client_test-2a20d2c3dd0e6af52b45b5f24d763dfb\n",
            "Function:  client_test\n",
            "args:      ('input1', 'input2')\n",
            "kwargs:    {'error': True}\n",
            "Exception: 'AssertionError()'\n"
          ]
        }
      ],
      "source": [
        "future = client.submit(client_test, \"input1\", \"input2\", error=True)\n",
        "future.result()"
      ],
      "id": "074a1144-29ed-4ad8-9c63-f13cf9a958c3"
    },
    {
      "cell_type": "code",
      "execution_count": 5,
      "metadata": {},
      "outputs": [],
      "source": [
        "client.shutdown()"
      ],
      "id": "9cba4697-09b5-4588-b688-e7458c2f2563"
    },
    {
      "cell_type": "markdown",
      "metadata": {},
      "source": [
        "### Running on a `SLURMCluster`\n",
        "\n",
        "We can pass in extra SLURM requirements in job_extra_directives to\n",
        "request a GPU for our jobs. To read more about configuring the\n",
        "`SLURMCluster` to interact with the SLURM queue, go to Dask’s [jobqueue\n",
        "documentation](https://jobqueue.dask.org/en/latest/generated/dask_jobqueue.SLURMCluster.html?highlight=slurmcluster)."
      ],
      "id": "9c8506b2-f687-4d24-a14f-b6e9efd79adc"
    },
    {
      "cell_type": "code",
      "execution_count": 6,
      "metadata": {},
      "outputs": [],
      "source": [
        "from dask_jobqueue import SLURMCluster\n",
        "from distributed import Client\n",
        "cluster = SLURMCluster(\n",
        "    memory=\"128g\", processes=1, cores=16, job_extra_directives=[\"--gres=gpu:1\"]\n",
        ")\n",
        "\n",
        "cluster.scale(1)\n",
        "client = Client(cluster)"
      ],
      "id": "d0d0de34-f446-455c-978c-25e0ca86c675"
    },
    {
      "cell_type": "markdown",
      "metadata": {},
      "source": [
        "Since this code is executing remotely we won’t see our print statements"
      ],
      "id": "ec2d9130-9811-49fe-b293-5d2ba09aada0"
    },
    {
      "cell_type": "code",
      "execution_count": 7,
      "metadata": {},
      "outputs": [
        {
          "output_type": "display_data",
          "metadata": {},
          "data": {
            "text/plain": [
              "('input1', 'input2')"
            ]
          }
        }
      ],
      "source": [
        "client.submit(client_test, \"input1\", \"input2\", test=True).result()"
      ],
      "id": "9eea9082-b21c-47f2-a2ce-d7dfae3bed6d"
    },
    {
      "cell_type": "markdown",
      "metadata": {},
      "source": [
        "Dask will raise any errors that the process triggers locally, even when\n",
        "executing remotely - but you may not get the full stack trace"
      ],
      "id": "f8f6402b-0ac4-486b-ba40-6e47c319a1cc"
    },
    {
      "cell_type": "code",
      "execution_count": 8,
      "metadata": {},
      "outputs": [],
      "source": [
        "client.submit(client_test, \"input1\", \"input2\", error=True).result()"
      ],
      "id": "3fc0b219-7cf2-40f0-8275-175af1ce8c8a"
    },
    {
      "cell_type": "markdown",
      "metadata": {},
      "source": [
        "If you’re working with any objects that are particularly memory\n",
        "intensive, you can consider using the `client.scatter` method to scatter\n",
        "large objects out to our workers ahead of time for more efficient\n",
        "execution."
      ],
      "id": "e7d1a106-525e-4dfd-9282-3bf3d809ab04"
    },
    {
      "cell_type": "code",
      "execution_count": 9,
      "metadata": {},
      "outputs": [
        {
          "output_type": "display_data",
          "metadata": {},
          "data": {
            "text/plain": [
              "(\"Let's pretend that this string is actually really big\", 'input2')"
            ]
          }
        }
      ],
      "source": [
        "large_object = \"Let's pretend that this string is actually really big\"\n",
        "input1_future = client.scatter(large_object)\n",
        "client.submit(client_test, input1_future, \"input2\").result()"
      ],
      "id": "2e2096d6-9cf0-4320-b7a3-7d8a7d3c9360"
    },
    {
      "cell_type": "code",
      "execution_count": 10,
      "metadata": {},
      "outputs": [],
      "source": [
        "client.shutdown()"
      ],
      "id": "acbf38fc-2cc9-43e3-900d-5a86b59ceb14"
    },
    {
      "cell_type": "markdown",
      "metadata": {},
      "source": [
        "In the next tutorial we’ll see how we can apply this kind of offloading\n",
        "to training a model in PyTorch."
      ],
      "id": "a4c98515-7917-421e-a223-42149ce46ae2"
    }
  ],
  "nbformat": 4,
  "nbformat_minor": 5,
  "metadata": {
    "kernelspec": {
      "name": "python3",
      "display_name": "Python 3 (ipykernel)",
      "language": "python"
    },
    "language_info": {
      "name": "python",
      "codemirror_mode": {
        "name": "ipython",
        "version": "3"
      },
      "file_extension": ".py",
      "mimetype": "text/x-python",
      "nbconvert_exporter": "python",
      "pygments_lexer": "ipython3",
      "version": "3.10.8"
    },
    "vscode": {
      "interpreter": {
        "hash": "db096b8404a4f1f3e1df0cc89f001e138448327417ef835d10f5a76aa612f160"
      }
    }
  }
}