{
  "cells": [
    {
      "cell_type": "markdown",
      "metadata": {},
      "source": [
        "# Dask Offloading\n",
        "\n",
        "### Testing with a `LocalCluster`\n",
        "\n",
        "Once you’ve written your function and are ready to move things over to .\n",
        "Working with Dask workers introduces another layer of complexity where\n",
        "things can go wrong, which make Dask LocalClusters the easiest way to\n",
        "prepare your code for offloading. This will mean that code will execute\n",
        "in the notebook session, just like running your function straight,\n",
        "allowing you to view print statements and debug errors normally rather\n",
        "than dealing with remote code execusion before we’re ready. Once you’re\n",
        "satisfied with your code you can switch over to a SLURMCluster to\n",
        "accelerate with GPU."
      ],
      "id": "23334ff3-f45a-497e-82ab-a536a3ba525e"
    },
    {
      "cell_type": "code",
      "execution_count": 1,
      "metadata": {},
      "outputs": [],
      "source": [
        "from distributed import Client, LocalCluster\n",
        "\n",
        "cluster = LocalCluster()\n",
        "client = Client(cluster)"
      ],
      "id": "acdcdecd-b465-4fa5-a0fc-a47b6e82f553"
    },
    {
      "cell_type": "markdown",
      "metadata": {},
      "source": [
        "We can submit our function to the cluster with the `client.submit`\n",
        "method. This will return a future which can be unpacked with its result\n",
        "using `future.result()`. We can see the outputs of print statements\n",
        "while we’re using a `LocalCluster`. Print statements will not be visible\n",
        "when executing remotely with `SLURMCluster`. Similarly, the full stack\n",
        "trace is still visible when an error or assertion is raised within the\n",
        "function."
      ],
      "id": "81526ba1-5f37-4df2-a006-5372c01f603e"
    },
    {
      "cell_type": "code",
      "execution_count": 2,
      "metadata": {},
      "outputs": [],
      "source": [
        "def client_test(input1, input2, error=False, test=False):\n",
        "    # Force an error\n",
        "    if error:\n",
        "        assert 0 == 1\n",
        "    \n",
        "    # Stop after one batch when testing        \n",
        "    if test: \n",
        "        print(\"When running in a local cluster you can see print statements!\")\n",
        "\n",
        "    return input1, input2"
      ],
      "id": "f9f423fc-42d4-4711-9127-0ecff6f0bb5a"
    },
    {
      "cell_type": "code",
      "execution_count": 3,
      "metadata": {},
      "outputs": [
        {
          "output_type": "stream",
          "name": "stdout",
          "text": [
            "When running in a local cluster you can see print statements!"
          ]
        },
        {
          "output_type": "display_data",
          "metadata": {},
          "data": {
            "text/plain": [
              "('input1', 'input2')"
            ]
          }
        }
      ],
      "source": [
        "future = client.submit(client_test, \"input1\", \"input2\", test=True)\n",
        "future.result()"
      ],
      "id": "ed33c013-5f49-474d-8ccf-6769ead9912a"
    },
    {
      "cell_type": "code",
      "execution_count": 4,
      "metadata": {},
      "outputs": [
        {
          "output_type": "stream",
          "name": "stderr",
          "text": [
            "2023-10-26 05:27:51,337 - distributed.worker - WARNING - Compute Failed\n",
            "Key:       client_test-2a20d2c3dd0e6af52b45b5f24d763dfb\n",
            "Function:  client_test\n",
            "args:      ('input1', 'input2')\n",
            "kwargs:    {'error': True}\n",
            "Exception: 'AssertionError()'\n"
          ]
        }
      ],
      "source": [
        "future = client.submit(client_test, \"input1\", \"input2\", error=True)\n",
        "future.result()"
      ],
      "id": "70330d95-2192-41a5-8d5d-f03fe6468f91"
    },
    {
      "cell_type": "code",
      "execution_count": 5,
      "metadata": {},
      "outputs": [],
      "source": [
        "client.shutdown()"
      ],
      "id": "26ba9aa6-d02d-4f36-aec1-46001e8c94de"
    },
    {
      "cell_type": "markdown",
      "metadata": {},
      "source": [
        "### Running on a `SLURMCluster`\n",
        "\n",
        "We can pass in extra SLURM requirements in job_extra_directives to\n",
        "request a GPU for our jobs. To read more about configuring the\n",
        "`SLURMCluster` to interact with the SLURM queue, go to Dask’s [jobqueue\n",
        "documentation](https://jobqueue.dask.org/en/latest/generated/dask_jobqueue.SLURMCluster.html?highlight=slurmcluster)."
      ],
      "id": "6cc1c42d-5a3f-43ff-95c4-1ba968a627d6"
    },
    {
      "cell_type": "code",
      "execution_count": 6,
      "metadata": {},
      "outputs": [],
      "source": [
        "from dask_jobqueue import SLURMCluster\n",
        "from distributed import Client\n",
        "cluster = SLURMCluster(\n",
        "    memory=\"128g\", processes=1, cores=16, job_extra_directives=[\"--gres=gpu:1\"]\n",
        ")\n",
        "\n",
        "cluster.scale(1)\n",
        "client = Client(cluster)"
      ],
      "id": "a84e5e4e-397b-4903-8c6b-8d4e3501eda0"
    },
    {
      "cell_type": "markdown",
      "metadata": {},
      "source": [
        "Since this code is executing remotely we won’t see our print statements"
      ],
      "id": "ddb6a898-5cde-4ee3-810f-c1bc2fafc6a2"
    },
    {
      "cell_type": "code",
      "execution_count": 7,
      "metadata": {},
      "outputs": [
        {
          "output_type": "display_data",
          "metadata": {},
          "data": {
            "text/plain": [
              "('input1', 'input2')"
            ]
          }
        }
      ],
      "source": [
        "client.submit(client_test, \"input1\", \"input2\", test=True).result()"
      ],
      "id": "ccbba856-e983-45a4-bb84-d8aa8351a0ea"
    },
    {
      "cell_type": "markdown",
      "metadata": {},
      "source": [
        "Dask will raise any errors that the process triggers locally, even when\n",
        "executing remotely - but you may not get the full stack trace"
      ],
      "id": "848f3310-5827-40d7-80b3-e22c1878b437"
    },
    {
      "cell_type": "code",
      "execution_count": 8,
      "metadata": {},
      "outputs": [],
      "source": [
        "client.submit(client_test, \"input1\", \"input2\", error=True).result()"
      ],
      "id": "e4f1f5d2-b215-4201-8eeb-38a7c756c316"
    },
    {
      "cell_type": "markdown",
      "metadata": {},
      "source": [
        "If you’re working with any objects that are particularly memory\n",
        "intensive, you can consider using the `client.scatter` method to scatter\n",
        "large objects out to our workers ahead of time for more efficient\n",
        "execution."
      ],
      "id": "478b2b9d-35a1-4efd-be99-9c7c5a5b7e88"
    },
    {
      "cell_type": "code",
      "execution_count": 9,
      "metadata": {},
      "outputs": [
        {
          "output_type": "display_data",
          "metadata": {},
          "data": {
            "text/plain": [
              "(\"Let's pretend that this string is actually really big\", 'input2')"
            ]
          }
        }
      ],
      "source": [
        "large_object = \"Let's pretend that this string is actually really big\"\n",
        "input1_future = client.scatter(large_object)\n",
        "client.submit(client_test, input1_future, \"input2\").result()"
      ],
      "id": "5b13089c-400a-486c-be26-b0aaf2ea9190"
    },
    {
      "cell_type": "code",
      "execution_count": 10,
      "metadata": {},
      "outputs": [],
      "source": [
        "client.shutdown()"
      ],
      "id": "a3436d08-1c7f-4783-85dc-3c7d2aa03a65"
    },
    {
      "cell_type": "markdown",
      "metadata": {},
      "source": [
        "In the next tutorial we’ll see how we can apply this kind of offloading\n",
        "to training a model in PyTorch."
      ],
      "id": "bc0f0225-acb9-46c4-afdb-c78b4df69be5"
    }
  ],
  "nbformat": 4,
  "nbformat_minor": 5,
  "metadata": {
    "kernelspec": {
      "name": "python3",
      "display_name": "Python 3 (ipykernel)",
      "language": "python"
    },
    "language_info": {
      "name": "python",
      "codemirror_mode": {
        "name": "ipython",
        "version": "3"
      },
      "file_extension": ".py",
      "mimetype": "text/x-python",
      "nbconvert_exporter": "python",
      "pygments_lexer": "ipython3",
      "version": "3.10.8"
    },
    "vscode": {
      "interpreter": {
        "hash": "db096b8404a4f1f3e1df0cc89f001e138448327417ef835d10f5a76aa612f160"
      }
    }
  }
}